{
 "cells": [
  {
   "cell_type": "code",
   "execution_count": 26,
   "metadata": {},
   "outputs": [],
   "source": [
    "import pandas as pd \n",
    "import numpy as np\n",
    "\n",
    "# local variables\n",
    "sample_data_path = 'data/sample_data/'\n",
    "\n",
    "# user data\n",
    "users = pd.read_csv(sample_data_path + 'users_sample.csv')\n",
    "# application data\n",
    "apps = pd.read_csv(sample_data_path + 'apps_sample.csv')\n",
    "# jobs data\n",
    "jobs = pd.read_csv(sample_data_path + 'jobs_sample.csv')\n",
    "# user history data \n",
    "user_history = pd.read_csv(sample_data_path + 'user_history_sample.csv')"
   ]
  },
  {
   "cell_type": "code",
   "execution_count": 27,
   "metadata": {},
   "outputs": [
    {
     "data": {
      "text/html": [
       "<div>\n",
       "<style scoped>\n",
       "    .dataframe tbody tr th:only-of-type {\n",
       "        vertical-align: middle;\n",
       "    }\n",
       "\n",
       "    .dataframe tbody tr th {\n",
       "        vertical-align: top;\n",
       "    }\n",
       "\n",
       "    .dataframe thead th {\n",
       "        text-align: right;\n",
       "    }\n",
       "</style>\n",
       "<table border=\"1\" class=\"dataframe\">\n",
       "  <thead>\n",
       "    <tr style=\"text-align: right;\">\n",
       "      <th></th>\n",
       "      <th>JobID</th>\n",
       "      <th>Title</th>\n",
       "      <th>Description</th>\n",
       "      <th>Requirements</th>\n",
       "      <th>State</th>\n",
       "      <th>City</th>\n",
       "    </tr>\n",
       "  </thead>\n",
       "  <tbody>\n",
       "    <tr>\n",
       "      <td>0</td>\n",
       "      <td>1</td>\n",
       "      <td>Security Engineer/Technical Lead</td>\n",
       "      <td>&lt;p&gt;Security Clearance Required:&amp;nbsp; Top Secr...</td>\n",
       "      <td>&lt;p&gt;SKILL SET&lt;/p&gt;\\r&lt;p&gt;&amp;nbsp;&lt;/p&gt;\\r&lt;p&gt;Network Se...</td>\n",
       "      <td>DC</td>\n",
       "      <td>Washington</td>\n",
       "    </tr>\n",
       "    <tr>\n",
       "      <td>1</td>\n",
       "      <td>4</td>\n",
       "      <td>SAP Business Analyst / WM</td>\n",
       "      <td>&lt;strong&gt;NO Corp. to Corp resumes&amp;nbsp;are bein...</td>\n",
       "      <td>&lt;p&gt;&lt;b&gt;WHAT YOU NEED: &lt;/b&gt;&lt;/p&gt;\\r&lt;p&gt;Four year co...</td>\n",
       "      <td>NC</td>\n",
       "      <td>Charlotte</td>\n",
       "    </tr>\n",
       "    <tr>\n",
       "      <td>2</td>\n",
       "      <td>7</td>\n",
       "      <td>P/T HUMAN RESOURCES ASSISTANT</td>\n",
       "      <td>&lt;b&gt;    &lt;b&gt; P/T HUMAN RESOURCES ASSISTANT&lt;/b&gt; &lt;...</td>\n",
       "      <td>Please refer to the Job Description to view th...</td>\n",
       "      <td>FL</td>\n",
       "      <td>Winter Park</td>\n",
       "    </tr>\n",
       "    <tr>\n",
       "      <td>3</td>\n",
       "      <td>8</td>\n",
       "      <td>Route Delivery Drivers</td>\n",
       "      <td>CITY BEVERAGES Come to work for the best in th...</td>\n",
       "      <td>Please refer to the Job Description to view th...</td>\n",
       "      <td>FL</td>\n",
       "      <td>Orlando</td>\n",
       "    </tr>\n",
       "    <tr>\n",
       "      <td>4</td>\n",
       "      <td>9</td>\n",
       "      <td>Housekeeping</td>\n",
       "      <td>I make  sure every part of their day is magica...</td>\n",
       "      <td>Please refer to the Job Description to view th...</td>\n",
       "      <td>FL</td>\n",
       "      <td>Orlando</td>\n",
       "    </tr>\n",
       "    <tr>\n",
       "      <td>...</td>\n",
       "      <td>...</td>\n",
       "      <td>...</td>\n",
       "      <td>...</td>\n",
       "      <td>...</td>\n",
       "      <td>...</td>\n",
       "      <td>...</td>\n",
       "    </tr>\n",
       "    <tr>\n",
       "      <td>65563</td>\n",
       "      <td>492807</td>\n",
       "      <td>Sr Financial Analyst</td>\n",
       "      <td>&lt;strong&gt;Classification: &lt;/strong&gt;  Financial B...</td>\n",
       "      <td>-5-6 years related experience.\\r\\n•Bachelors i...</td>\n",
       "      <td>CA</td>\n",
       "      <td>San Jose</td>\n",
       "    </tr>\n",
       "    <tr>\n",
       "      <td>65564</td>\n",
       "      <td>493018</td>\n",
       "      <td>Site Manager - New visions Teacher Effectivene...</td>\n",
       "      <td>&lt;div&gt;&lt;p&gt;&lt;span&gt; &lt;/span&gt;&amp;nbsp;&lt;/p&gt;\\r&lt;p&gt;&lt;span&gt; &lt;/...</td>\n",
       "      <td>&lt;p&gt;&lt;span&gt;Qualifications &lt;/span&gt;&lt;/p&gt;\\r&lt;p&gt;&lt;span&gt;...</td>\n",
       "      <td>NY</td>\n",
       "      <td>Brooklyn</td>\n",
       "    </tr>\n",
       "    <tr>\n",
       "      <td>65565</td>\n",
       "      <td>493028</td>\n",
       "      <td>Volkswagen Internet Sales Professional</td>\n",
       "      <td>&lt;div&gt;&lt;strong&gt;Description:&lt;/strong&gt; Automobile ...</td>\n",
       "      <td>&lt;div&gt;\\r&lt;p&gt;&lt;strong&gt;Automobile Salesperson Job D...</td>\n",
       "      <td>GA</td>\n",
       "      <td>Snellville</td>\n",
       "    </tr>\n",
       "    <tr>\n",
       "      <td>65566</td>\n",
       "      <td>493055</td>\n",
       "      <td>Sr. Communications Specialist</td>\n",
       "      <td>&lt;P style=\"MARGIN: 0in 0in 12pt\"&gt;&lt;B&gt;About Sauer...</td>\n",
       "      <td>&lt;P style=\"MARGIN: 0in 0in 12pt\"&gt;&lt;B&gt;Qualificati...</td>\n",
       "      <td>MN</td>\n",
       "      <td>Minneapolis</td>\n",
       "    </tr>\n",
       "    <tr>\n",
       "      <td>65567</td>\n",
       "      <td>493066</td>\n",
       "      <td>Facilities Coordinator</td>\n",
       "      <td>&lt;span style=\"text-decoration: underline\"&gt;Respo...</td>\n",
       "      <td>&lt;p&gt;&lt;strong&gt;REQUIRED KNOWLEDGE AND EXPERIENCE&lt;/...</td>\n",
       "      <td>FL</td>\n",
       "      <td>Orlando</td>\n",
       "    </tr>\n",
       "  </tbody>\n",
       "</table>\n",
       "<p>65568 rows × 6 columns</p>\n",
       "</div>"
      ],
      "text/plain": [
       "        JobID                                              Title  \\\n",
       "0           1                   Security Engineer/Technical Lead   \n",
       "1           4                          SAP Business Analyst / WM   \n",
       "2           7                      P/T HUMAN RESOURCES ASSISTANT   \n",
       "3           8                             Route Delivery Drivers   \n",
       "4           9                                       Housekeeping   \n",
       "...       ...                                                ...   \n",
       "65563  492807                               Sr Financial Analyst   \n",
       "65564  493018  Site Manager - New visions Teacher Effectivene...   \n",
       "65565  493028             Volkswagen Internet Sales Professional   \n",
       "65566  493055                      Sr. Communications Specialist   \n",
       "65567  493066                             Facilities Coordinator   \n",
       "\n",
       "                                             Description  \\\n",
       "0      <p>Security Clearance Required:&nbsp; Top Secr...   \n",
       "1      <strong>NO Corp. to Corp resumes&nbsp;are bein...   \n",
       "2      <b>    <b> P/T HUMAN RESOURCES ASSISTANT</b> <...   \n",
       "3      CITY BEVERAGES Come to work for the best in th...   \n",
       "4      I make  sure every part of their day is magica...   \n",
       "...                                                  ...   \n",
       "65563  <strong>Classification: </strong>  Financial B...   \n",
       "65564  <div><p><span> </span>&nbsp;</p>\\r<p><span> </...   \n",
       "65565  <div><strong>Description:</strong> Automobile ...   \n",
       "65566  <P style=\"MARGIN: 0in 0in 12pt\"><B>About Sauer...   \n",
       "65567  <span style=\"text-decoration: underline\">Respo...   \n",
       "\n",
       "                                            Requirements State         City  \n",
       "0      <p>SKILL SET</p>\\r<p>&nbsp;</p>\\r<p>Network Se...    DC   Washington  \n",
       "1      <p><b>WHAT YOU NEED: </b></p>\\r<p>Four year co...    NC    Charlotte  \n",
       "2      Please refer to the Job Description to view th...    FL  Winter Park  \n",
       "3      Please refer to the Job Description to view th...    FL      Orlando  \n",
       "4      Please refer to the Job Description to view th...    FL      Orlando  \n",
       "...                                                  ...   ...          ...  \n",
       "65563  -5-6 years related experience.\\r\\n•Bachelors i...    CA     San Jose  \n",
       "65564  <p><span>Qualifications </span></p>\\r<p><span>...    NY     Brooklyn  \n",
       "65565  <div>\\r<p><strong>Automobile Salesperson Job D...    GA   Snellville  \n",
       "65566  <P style=\"MARGIN: 0in 0in 12pt\"><B>Qualificati...    MN  Minneapolis  \n",
       "65567  <p><strong>REQUIRED KNOWLEDGE AND EXPERIENCE</...    FL      Orlando  \n",
       "\n",
       "[65568 rows x 6 columns]"
      ]
     },
     "execution_count": 27,
     "metadata": {},
     "output_type": "execute_result"
    }
   ],
   "source": [
    "# Find 10 most popular skills per position\n",
    "\n",
    "JD = jobs[['JobID','Title','Description','Requirements','State','City']]\n",
    "JD"
   ]
  },
  {
   "cell_type": "markdown",
   "metadata": {},
   "source": [
    "## Data Clearing"
   ]
  },
  {
   "cell_type": "markdown",
   "metadata": {},
   "source": [
    "### Removing urls"
   ]
  },
  {
   "cell_type": "code",
   "execution_count": 28,
   "metadata": {},
   "outputs": [
    {
     "data": {
      "text/plain": [
       "'<p>Security Clearance Required:&nbsp; Top Secret </p>\\\\r<p>Job Number: TMR-447</p>\\\\r<p>Location of Job:&nbsp; Washington, DC</p>\\\\r<p>TMR, Inc. is an Equal Employment Opportunity Company</p>\\\\r<p>For more job opportunities with TMR, visit our website <a href=\"http://www.tmrhq.com/\">www.tmrhq.com</a></p>\\\\r<p>Send Resumes to HR@tmrhq2.com</p>\\\\r<p>&nbsp;</p>\\\\r<p>JOB SUMMARY:</p>\\\\r<p>&nbsp;</p>\\\\r<p>Leads the customer&rsquo;s overall Cyber Security strategy, formalizes service offerings consisted with ITIL best practices, and provides design and architecture support.</p>\\\\r<p>&nbsp;</p>\\\\r<ul>\\\\r    <li>Provide security design / architecture support for OJP&rsquo;s IT Security Division (ITSD) </li>\\\\r    <li>Leads the SECOPS team in the day to day OJP Security Operations support&nbsp; </li>\\\\r    <li>Provides direction when needed in a security incident or technical issues </li>\\\\r    <li>Works in concert with network operations on design /integration for best security posture</li>\\\\r    <li>Supports business development functions including Capture Management, Proposal Development and responses, and other initiatives to include conferences, trade shows, webinars, developing white papers and the like.</li>\\\\r    <li>Identifies resources and mentors in-house talent to ensure TMR remains responsive to growing initiatives and contracts with qualified personnel.&nbsp;&nbsp; </li>\\\\r</ul>\\\\r<p>&nbsp;</p>\\\\r<p><a href=\"https://www.tmrhq.com/jobapplicationstep1.aspx\"><span></span></a>&nbsp;</p>'"
      ]
     },
     "execution_count": 28,
     "metadata": {},
     "output_type": "execute_result"
    }
   ],
   "source": [
    "### reference: https://www.kaggle.com/shahules/basic-eda-cleaning-and-glove\n",
    "JD_Description = JD['Description']\n",
    "example = JD_Description[0]\n",
    "example"
   ]
  },
  {
   "cell_type": "code",
   "execution_count": 29,
   "metadata": {},
   "outputs": [
    {
     "data": {
      "text/plain": [
       "'<p>Security Clearance Required:&nbsp; Top Secret </p>\\\\r<p>Job Number: TMR-447</p>\\\\r<p>Location of Job:&nbsp; Washington, DC</p>\\\\r<p>TMR, Inc. is an Equal Employment Opportunity Company</p>\\\\r<p>For more job opportunities with TMR, visit our website <a href=\"\"></a></p>\\\\r<p>Send Resumes to </p>\\\\r<p>&nbsp;</p>\\\\r<p>JOB SUMMARY:</p>\\\\r<p>&nbsp;</p>\\\\r<p>Leads the customer&rsquo;s overall Cyber Security strategy, formalizes service offerings consisted with ITIL best practices, and provides design and architecture support.</p>\\\\r<p>&nbsp;</p>\\\\r<ul>\\\\r    <li>Provide security design / architecture support for OJP&rsquo;s IT Security Division (ITSD) </li>\\\\r    <li>Leads the SECOPS team in the day to day OJP Security Operations support&nbsp; </li>\\\\r    <li>Provides direction when needed in a security incident or technical issues </li>\\\\r    <li>Works in concert with network operations on design /integration for best security posture</li>\\\\r    <li>Supports business development functions including Capture Management, Proposal Development and responses, and other initiatives to include conferences, trade shows, webinars, developing white papers and the like.</li>\\\\r    <li>Identifies resources and mentors in-house talent to ensure TMR remains responsive to growing initiatives and contracts with qualified personnel.&nbsp;&nbsp; </li>\\\\r</ul>\\\\r<p>&nbsp;</p>\\\\r<p><a href=\"\"><span></span></a>&nbsp;</p>'"
      ]
     },
     "execution_count": 29,
     "metadata": {},
     "output_type": "execute_result"
    }
   ],
   "source": [
    "import re\n",
    "\n",
    "def remove_URL(text):\n",
    "    url = re.compile(r'(https?:\\/\\/)?[-a-zA-Z0-9@:%._\\+~#=]{1,256}\\.[a-zA-Z0-9()]{1,6}([-a-zA-Z0-9()@:%_\\+.~#?&\\/=]*)')\n",
    "    return url.sub(r'',text)\n",
    "example = remove_URL(example)\n",
    "example\n"
   ]
  },
  {
   "cell_type": "markdown",
   "metadata": {},
   "source": [
    "### Removing HTML tags"
   ]
  },
  {
   "cell_type": "code",
   "execution_count": 30,
   "metadata": {},
   "outputs": [
    {
     "data": {
      "text/plain": [
       "'Security Clearance Required:&nbsp; Top Secret \\\\rJob Number: TMR-447\\\\rLocation of Job:&nbsp; Washington, DC\\\\rTMR, Inc. is an Equal Employment Opportunity Company\\\\rFor more job opportunities with TMR, visit our website \\\\rSend Resumes to \\\\r&nbsp;\\\\rJOB SUMMARY:\\\\r&nbsp;\\\\rLeads the customer&rsquo;s overall Cyber Security strategy, formalizes service offerings consisted with ITIL best practices, and provides design and architecture support.\\\\r&nbsp;\\\\r\\\\r    Provide security design / architecture support for OJP&rsquo;s IT Security Division (ITSD) \\\\r    Leads the SECOPS team in the day to day OJP Security Operations support&nbsp; \\\\r    Provides direction when needed in a security incident or technical issues \\\\r    Works in concert with network operations on design /integration for best security posture\\\\r    Supports business development functions including Capture Management, Proposal Development and responses, and other initiatives to include conferences, trade shows, webinars, developing white papers and the like.\\\\r    Identifies resources and mentors in-house talent to ensure TMR remains responsive to growing initiatives and contracts with qualified personnel.&nbsp;&nbsp; \\\\r\\\\r&nbsp;\\\\r&nbsp;'"
      ]
     },
     "execution_count": 30,
     "metadata": {},
     "output_type": "execute_result"
    }
   ],
   "source": [
    "import re\n",
    "import html\n",
    "\n",
    "def remove_html(text):\n",
    "    html=re.compile(r'<.*?>')\n",
    "    return html.sub(r'',text)\n",
    "example = remove_html(example)\n",
    "example"
   ]
  },
  {
   "cell_type": "markdown",
   "metadata": {},
   "source": [
    "### Removing Spaces"
   ]
  },
  {
   "cell_type": "code",
   "execution_count": 31,
   "metadata": {},
   "outputs": [
    {
     "data": {
      "text/plain": [
       "'Security Clearance Required: Top Secret \\\\rJob Number: TMR-447\\\\rLocation of Job: Washington, DC\\\\rTMR, Inc. is an Equal Employment Opportunity Company\\\\rFor more job opportunities with TMR, visit our website \\\\rSend Resumes to \\\\r\\\\rJOB SUMMARY:\\\\r\\\\rLeads the customers overall Cyber Security strategy, formalizes service offerings consisted with ITIL best practices, and provides design and architecture support.\\\\r\\\\r\\\\r    Provide security design / architecture support for OJPs IT Security Division (ITSD) \\\\r    Leads the SECOPS team in the day to day OJP Security Operations support \\\\r    Provides direction when needed in a security incident or technical issues \\\\r    Works in concert with network operations on design /integration for best security posture\\\\r    Supports business development functions including Capture Management, Proposal Development and responses, and other initiatives to include conferences, trade shows, webinars, developing white papers and the like.\\\\r    Identifies resources and mentors in-house talent to ensure TMR remains responsive to growing initiatives and contracts with qualified personnel. \\\\r\\\\r\\\\r'"
      ]
     },
     "execution_count": 31,
     "metadata": {},
     "output_type": "execute_result"
    }
   ],
   "source": [
    "def remove_spaces(text):\n",
    "    html=re.compile(r'&nbsp;|&rsquo;')\n",
    "    return html.sub(r'',text)\n",
    "example = remove_spaces(example)\n",
    "example"
   ]
  },
  {
   "cell_type": "code",
   "execution_count": 32,
   "metadata": {},
   "outputs": [],
   "source": [
    "# Not doing spellchecker at this time since it is way too slow\n",
    "\n",
    "# from spellchecker import SpellChecker\n",
    "\n",
    "# spell = SpellChecker()\n",
    "# def correct_spellings(text):\n",
    "#     corrected_text = []\n",
    "#     misspelled_words = spell.unknown(text.split())\n",
    "#     for word in text.split():\n",
    "#         if word in misspelled_words:\n",
    "#             corrected_text.append(spell.correction(word))\n",
    "#         else:\n",
    "#             corrected_text.append(word)\n",
    "#     return \" \".join(corrected_text)\n",
    "\n",
    "# text = \"I alwasy hsa smoe typo\"\n",
    "# correct_spellings(text)\n"
   ]
  },
  {
   "cell_type": "markdown",
   "metadata": {},
   "source": [
    "### Combined all together"
   ]
  },
  {
   "cell_type": "code",
   "execution_count": 44,
   "metadata": {},
   "outputs": [
    {
     "data": {
      "text/plain": [
       "'This Administrative Assistant position is responsible for performing a variety of clerical and administrative support functions in the areas of communications, data entry and retrieval, typing, filing, copying, and coordination of related administrative activities. \\\\n\\\\nJOB REQUIREMENTS:\\\\nAttention to detail\\\\nAbility to work in a fast paced environment\\\\nInvoicing\\\\nProficient in Word, Excel and Outlook\\\\nOther Administrative responsibilities as needed.\\\\n\\\\nQUALIFICATIONS:\\\\nHigh School Diploma\\\\nAdministrative Assistant Experience\\\\n1-2 Years work experience\\\\nWorking knowledge of all basic office machines (fax, copier, 10key, \\\\nStrong verbal and written communication skills\\\\nStrong work ethic.'"
      ]
     },
     "execution_count": 44,
     "metadata": {},
     "output_type": "execute_result"
    }
   ],
   "source": [
    "combined_example = JD_Description[10]\n",
    "combined_example"
   ]
  },
  {
   "cell_type": "code",
   "execution_count": 46,
   "metadata": {},
   "outputs": [
    {
     "data": {
      "text/plain": [
       "'This Administrative Assistant position is responsible for performing a variety of clerical and administrative support functions in the areas of communications, data entry and retrieval, typing, filing, copying, and coordination of related administrative activities. JOB REQUIREMENTS:Attention to detailAbility to work in a fast paced environmentInvoicingProficient in Word, Excel and OutlookOther Administrative responsibilities as needed.QUALIFICATIONS:High School DiplomaAdministrative Assistant Experience1-2 Years work experienceWorking knowledge of all basic office machines (fax, copier, 10key, Strong verbal and written communication skillsStrong work ethic.'"
      ]
     },
     "execution_count": 46,
     "metadata": {},
     "output_type": "execute_result"
    }
   ],
   "source": [
    "def data_clearing_combined(text):\n",
    "    \n",
    "    regex = r'(https?:\\/\\/)?[-a-zA-Z0-9@:%._\\+~#=]{1,256}\\.[a-zA-Z0-9()]{1,6}([-a-zA-Z0-9()@:%_\\+.~#?&\\/=]*)|<.*?>|&nbsp;|&rsquo;|\\\\+r|\\\\+n'\n",
    "    result = re.compile(regex)\n",
    "    return result.sub(r'',text)\n",
    "                                  \n",
    "combined_example = data_clearing_combined(combined_example)\n",
    "combined_example\n"
   ]
  },
  {
   "cell_type": "code",
   "execution_count": 47,
   "metadata": {},
   "outputs": [
    {
     "name": "stderr",
     "output_type": "stream",
     "text": [
      "C:\\Users\\steve\\Anaconda3\\lib\\site-packages\\ipykernel_launcher.py:2: SettingWithCopyWarning: \n",
      "A value is trying to be set on a copy of a slice from a DataFrame.\n",
      "Try using .loc[row_indexer,col_indexer] = value instead\n",
      "\n",
      "See the caveats in the documentation: http://pandas.pydata.org/pandas-docs/stable/user_guide/indexing.html#returning-a-view-versus-a-copy\n",
      "  \n"
     ]
    },
    {
     "data": {
      "text/plain": [
       "0        Security Clearance Required: Top Secret Job Nu...\n",
       "1        NO Corp. to Corp resumesare being considered f...\n",
       "2             P/T HUMAN RESOURCES ASSISTANT   ——  1-2 y...\n",
       "3        CITY BEVERAGES Come to work for the best in th...\n",
       "4        I make  sure every part of their day is magica...\n",
       "                               ...                        \n",
       "65563    Classification:   Financial Business Analyst C...\n",
       "65564      Site Manager, New Visions Teacher Effectiven...\n",
       "65565    Description: Automobile SalespersonAutomobile ...\n",
       "65566    About Sauer-Danfoss Sauer-Danfoss Inc. is a wo...\n",
       "65567    Responsibilities:The Facilities Coordinator pr...\n",
       "Name: Description, Length: 65568, dtype: object"
      ]
     },
     "execution_count": 47,
     "metadata": {},
     "output_type": "execute_result"
    }
   ],
   "source": [
    "# Clear JD description\n",
    "JD['Description'] = JD['Description'].apply(lambda x : data_clearing_combined(str(x)))\n",
    "JD['Description']"
   ]
  },
  {
   "cell_type": "code",
   "execution_count": 48,
   "metadata": {},
   "outputs": [
    {
     "name": "stderr",
     "output_type": "stream",
     "text": [
      "C:\\Users\\steve\\Anaconda3\\lib\\site-packages\\ipykernel_launcher.py:1: SettingWithCopyWarning: \n",
      "A value is trying to be set on a copy of a slice from a DataFrame.\n",
      "Try using .loc[row_indexer,col_indexer] = value instead\n",
      "\n",
      "See the caveats in the documentation: http://pandas.pydata.org/pandas-docs/stable/user_guide/indexing.html#returning-a-view-versus-a-copy\n",
      "  \"\"\"Entry point for launching an IPython kernel.\n"
     ]
    },
    {
     "data": {
      "text/plain": [
       "0        SKILL SETNetwork Security tools:Webdefend Web ...\n",
       "1        WHAT YOU NEED: Four year college degreeMinimum...\n",
       "2        Please refer to the Job Description to view th...\n",
       "3        Please refer to the Job Description to view th...\n",
       "4        Please refer to the Job Description to view th...\n",
       "                               ...                        \n",
       "65563    -5-6 years related experience.•Bachelors in Ac...\n",
       "65564    Qualifications We are seeking candidates who b...\n",
       "65565    Automobile Salesperson Job Duties:    Understa...\n",
       "65566    Qualifications:       Degree in Communications...\n",
       "65567    REQUIRED KNOWLEDGE AND EXPERIENCE: Please desc...\n",
       "Name: Requirements, Length: 65568, dtype: object"
      ]
     },
     "execution_count": 48,
     "metadata": {},
     "output_type": "execute_result"
    }
   ],
   "source": [
    "JD['Requirements'] = JD['Requirements'].apply(lambda x : data_clearing_combined(str(x)))\n",
    "JD['Requirements']"
   ]
  },
  {
   "cell_type": "code",
   "execution_count": 49,
   "metadata": {},
   "outputs": [
    {
     "data": {
      "text/html": [
       "<div>\n",
       "<style scoped>\n",
       "    .dataframe tbody tr th:only-of-type {\n",
       "        vertical-align: middle;\n",
       "    }\n",
       "\n",
       "    .dataframe tbody tr th {\n",
       "        vertical-align: top;\n",
       "    }\n",
       "\n",
       "    .dataframe thead th {\n",
       "        text-align: right;\n",
       "    }\n",
       "</style>\n",
       "<table border=\"1\" class=\"dataframe\">\n",
       "  <thead>\n",
       "    <tr style=\"text-align: right;\">\n",
       "      <th></th>\n",
       "      <th>JobID</th>\n",
       "      <th>Title</th>\n",
       "      <th>Description</th>\n",
       "      <th>Requirements</th>\n",
       "      <th>State</th>\n",
       "      <th>City</th>\n",
       "    </tr>\n",
       "  </thead>\n",
       "  <tbody>\n",
       "    <tr>\n",
       "      <td>0</td>\n",
       "      <td>1</td>\n",
       "      <td>Security Engineer/Technical Lead</td>\n",
       "      <td>Security Clearance Required: Top Secret Job Nu...</td>\n",
       "      <td>SKILL SETNetwork Security tools:Webdefend Web ...</td>\n",
       "      <td>DC</td>\n",
       "      <td>Washington</td>\n",
       "    </tr>\n",
       "    <tr>\n",
       "      <td>1</td>\n",
       "      <td>4</td>\n",
       "      <td>SAP Business Analyst / WM</td>\n",
       "      <td>NO Corp. to Corp resumesare being considered f...</td>\n",
       "      <td>WHAT YOU NEED: Four year college degreeMinimum...</td>\n",
       "      <td>NC</td>\n",
       "      <td>Charlotte</td>\n",
       "    </tr>\n",
       "    <tr>\n",
       "      <td>2</td>\n",
       "      <td>7</td>\n",
       "      <td>P/T HUMAN RESOURCES ASSISTANT</td>\n",
       "      <td>P/T HUMAN RESOURCES ASSISTANT   ——  1-2 y...</td>\n",
       "      <td>Please refer to the Job Description to view th...</td>\n",
       "      <td>FL</td>\n",
       "      <td>Winter Park</td>\n",
       "    </tr>\n",
       "    <tr>\n",
       "      <td>3</td>\n",
       "      <td>8</td>\n",
       "      <td>Route Delivery Drivers</td>\n",
       "      <td>CITY BEVERAGES Come to work for the best in th...</td>\n",
       "      <td>Please refer to the Job Description to view th...</td>\n",
       "      <td>FL</td>\n",
       "      <td>Orlando</td>\n",
       "    </tr>\n",
       "    <tr>\n",
       "      <td>4</td>\n",
       "      <td>9</td>\n",
       "      <td>Housekeeping</td>\n",
       "      <td>I make  sure every part of their day is magica...</td>\n",
       "      <td>Please refer to the Job Description to view th...</td>\n",
       "      <td>FL</td>\n",
       "      <td>Orlando</td>\n",
       "    </tr>\n",
       "    <tr>\n",
       "      <td>...</td>\n",
       "      <td>...</td>\n",
       "      <td>...</td>\n",
       "      <td>...</td>\n",
       "      <td>...</td>\n",
       "      <td>...</td>\n",
       "      <td>...</td>\n",
       "    </tr>\n",
       "    <tr>\n",
       "      <td>65563</td>\n",
       "      <td>492807</td>\n",
       "      <td>Sr Financial Analyst</td>\n",
       "      <td>Classification:   Financial Business Analyst C...</td>\n",
       "      <td>-5-6 years related experience.•Bachelors in Ac...</td>\n",
       "      <td>CA</td>\n",
       "      <td>San Jose</td>\n",
       "    </tr>\n",
       "    <tr>\n",
       "      <td>65564</td>\n",
       "      <td>493018</td>\n",
       "      <td>Site Manager - New visions Teacher Effectivene...</td>\n",
       "      <td>Site Manager, New Visions Teacher Effectiven...</td>\n",
       "      <td>Qualifications We are seeking candidates who b...</td>\n",
       "      <td>NY</td>\n",
       "      <td>Brooklyn</td>\n",
       "    </tr>\n",
       "    <tr>\n",
       "      <td>65565</td>\n",
       "      <td>493028</td>\n",
       "      <td>Volkswagen Internet Sales Professional</td>\n",
       "      <td>Description: Automobile SalespersonAutomobile ...</td>\n",
       "      <td>Automobile Salesperson Job Duties:    Understa...</td>\n",
       "      <td>GA</td>\n",
       "      <td>Snellville</td>\n",
       "    </tr>\n",
       "    <tr>\n",
       "      <td>65566</td>\n",
       "      <td>493055</td>\n",
       "      <td>Sr. Communications Specialist</td>\n",
       "      <td>About Sauer-Danfoss Sauer-Danfoss Inc. is a wo...</td>\n",
       "      <td>Qualifications:       Degree in Communications...</td>\n",
       "      <td>MN</td>\n",
       "      <td>Minneapolis</td>\n",
       "    </tr>\n",
       "    <tr>\n",
       "      <td>65567</td>\n",
       "      <td>493066</td>\n",
       "      <td>Facilities Coordinator</td>\n",
       "      <td>Responsibilities:The Facilities Coordinator pr...</td>\n",
       "      <td>REQUIRED KNOWLEDGE AND EXPERIENCE: Please desc...</td>\n",
       "      <td>FL</td>\n",
       "      <td>Orlando</td>\n",
       "    </tr>\n",
       "  </tbody>\n",
       "</table>\n",
       "<p>65568 rows × 6 columns</p>\n",
       "</div>"
      ],
      "text/plain": [
       "        JobID                                              Title  \\\n",
       "0           1                   Security Engineer/Technical Lead   \n",
       "1           4                          SAP Business Analyst / WM   \n",
       "2           7                      P/T HUMAN RESOURCES ASSISTANT   \n",
       "3           8                             Route Delivery Drivers   \n",
       "4           9                                       Housekeeping   \n",
       "...       ...                                                ...   \n",
       "65563  492807                               Sr Financial Analyst   \n",
       "65564  493018  Site Manager - New visions Teacher Effectivene...   \n",
       "65565  493028             Volkswagen Internet Sales Professional   \n",
       "65566  493055                      Sr. Communications Specialist   \n",
       "65567  493066                             Facilities Coordinator   \n",
       "\n",
       "                                             Description  \\\n",
       "0      Security Clearance Required: Top Secret Job Nu...   \n",
       "1      NO Corp. to Corp resumesare being considered f...   \n",
       "2           P/T HUMAN RESOURCES ASSISTANT   ——  1-2 y...   \n",
       "3      CITY BEVERAGES Come to work for the best in th...   \n",
       "4      I make  sure every part of their day is magica...   \n",
       "...                                                  ...   \n",
       "65563  Classification:   Financial Business Analyst C...   \n",
       "65564    Site Manager, New Visions Teacher Effectiven...   \n",
       "65565  Description: Automobile SalespersonAutomobile ...   \n",
       "65566  About Sauer-Danfoss Sauer-Danfoss Inc. is a wo...   \n",
       "65567  Responsibilities:The Facilities Coordinator pr...   \n",
       "\n",
       "                                            Requirements State         City  \n",
       "0      SKILL SETNetwork Security tools:Webdefend Web ...    DC   Washington  \n",
       "1      WHAT YOU NEED: Four year college degreeMinimum...    NC    Charlotte  \n",
       "2      Please refer to the Job Description to view th...    FL  Winter Park  \n",
       "3      Please refer to the Job Description to view th...    FL      Orlando  \n",
       "4      Please refer to the Job Description to view th...    FL      Orlando  \n",
       "...                                                  ...   ...          ...  \n",
       "65563  -5-6 years related experience.•Bachelors in Ac...    CA     San Jose  \n",
       "65564  Qualifications We are seeking candidates who b...    NY     Brooklyn  \n",
       "65565  Automobile Salesperson Job Duties:    Understa...    GA   Snellville  \n",
       "65566  Qualifications:       Degree in Communications...    MN  Minneapolis  \n",
       "65567  REQUIRED KNOWLEDGE AND EXPERIENCE: Please desc...    FL      Orlando  \n",
       "\n",
       "[65568 rows x 6 columns]"
      ]
     },
     "execution_count": 49,
     "metadata": {},
     "output_type": "execute_result"
    }
   ],
   "source": [
    "JD"
   ]
  },
  {
   "cell_type": "code",
   "execution_count": 50,
   "metadata": {},
   "outputs": [],
   "source": [
    "JD.to_csv(sample_data_path + 'jobs_sample_cleared.csv')"
   ]
  },
  {
   "cell_type": "code",
   "execution_count": null,
   "metadata": {},
   "outputs": [],
   "source": []
  }
 ],
 "metadata": {
  "kernelspec": {
   "display_name": "Python 3",
   "language": "python",
   "name": "python3"
  },
  "language_info": {
   "codemirror_mode": {
    "name": "ipython",
    "version": 3
   },
   "file_extension": ".py",
   "mimetype": "text/x-python",
   "name": "python",
   "nbconvert_exporter": "python",
   "pygments_lexer": "ipython3",
   "version": "3.7.4"
  }
 },
 "nbformat": 4,
 "nbformat_minor": 1
}
