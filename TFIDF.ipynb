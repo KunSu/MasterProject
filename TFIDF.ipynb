{
 "cells": [
  {
   "cell_type": "code",
   "execution_count": null,
   "metadata": {},
   "outputs": [],
   "source": [
    "#reference: https://kavita-ganesan.com/tfidftransformer-tfidfvectorizer-usage-differences/\n",
    "\n",
    "import pandas as pd \n",
    "import numpy as np\n",
    "from sklearn.feature_extraction.text import TfidfTransformer\n",
    "from sklearn.feature_extraction.text import CountVectorizer\n",
    "\n",
    "# local variables\n",
    "sample_data_path = 'data/sample_data/'\n",
    "\n",
    "# user data\n",
    "user = pd.read_csv(sample_data_path + 'users_sample.csv')\n",
    "# jobs data\n",
    "jobs = pd.read_csv(sample_data_path + 'jobs_sample_cleared.csv')\n",
    "# user history data \n",
    "user_history = pd.read_csv(sample_data_path + 'user_history_sample.csv')"
   ]
  },
  {
   "cell_type": "code",
   "execution_count": null,
   "metadata": {},
   "outputs": [],
   "source": [
    "jobs.head()"
   ]
  },
  {
   "cell_type": "markdown",
   "metadata": {},
   "source": [
    "## Preprocess Combine Column that u need to a single vector"
   ]
  },
  {
   "cell_type": "code",
   "execution_count": null,
   "metadata": {},
   "outputs": [],
   "source": [
    "#Combine the column u need (adding city and state increase the word size to 180,000 )\n",
    "documents = []\n",
    "for i in range (len(jobs)):\n",
    "    text = \"{} {} {} {} {}\".format(jobs.loc[i, 'Title'],\n",
    "                                   jobs.loc[i, 'Description'],\n",
    "                                   jobs.loc[i, 'Requirements'],\n",
    "                                   jobs.loc[i, 'State'],\n",
    "                                   jobs.loc[i, 'City'])\n",
    "    documents.append(text)\n",
    "documents"
   ]
  },
  {
   "cell_type": "markdown",
   "metadata": {},
   "source": [
    "# Guide Line  (Tfidftransformer  vs Tfidfvectorizer)\n",
    "#### 1. If you need to compute tf-idf scores on documents outside your “training” dataset, use either one, both will work.\n",
    "#### 2. If you need the term frequency (term count) vectors for different tasks, use Tfidftransformer.\n",
    "#### 3. If you need to compute tf-idf scores on documents within your “training” dataset, use Tfidfvectorizer"
   ]
  },
  {
   "cell_type": "markdown",
   "metadata": {},
   "source": [
    "# First Method :  Tfidftransformer \n",
    "### 1. Initialize CountVectorizer"
   ]
  },
  {
   "cell_type": "code",
   "execution_count": null,
   "metadata": {},
   "outputs": [],
   "source": [
    "#instantiate CountVectorizer()\n",
    "cv = CountVectorizer()\n",
    " \n",
    "# this steps generates word counts for the words in your docs\n",
    "word_count_vector = cv.fit_transform(documents)"
   ]
  },
  {
   "cell_type": "code",
   "execution_count": null,
   "metadata": {},
   "outputs": [],
   "source": [
    "word_count_vector.shape"
   ]
  },
  {
   "cell_type": "markdown",
   "metadata": {},
   "source": [
    "### 2. Compute the IDF values"
   ]
  },
  {
   "cell_type": "code",
   "execution_count": null,
   "metadata": {},
   "outputs": [],
   "source": [
    "tfidf_transformer = TfidfTransformer(smooth_idf=True, use_idf=True)\n",
    "tfidf_transformer.fit(word_count_vector)"
   ]
  },
  {
   "cell_type": "markdown",
   "metadata": {},
   "source": [
    "#####  The lower the IDF value of a word, the less unique it is to any particular document."
   ]
  },
  {
   "cell_type": "code",
   "execution_count": null,
   "metadata": {},
   "outputs": [],
   "source": [
    "# print idf values\n",
    "df = pd.DataFrame(tfidf_transformer.idf_, index=cv.get_feature_names(),columns=[\"idf_weights\"])\n",
    " \n",
    "# sort ascending\n",
    "df.sort_values(by=['idf_weights'])"
   ]
  },
  {
   "cell_type": "markdown",
   "metadata": {},
   "source": [
    "### 3. Compute the TFIDF score for your documents"
   ]
  },
  {
   "cell_type": "code",
   "execution_count": null,
   "metadata": {},
   "outputs": [],
   "source": [
    "# count matrix\n",
    "count_vector = cv.transform(documents)\n",
    " \n",
    "# tf-idf scores\n",
    "tf_idf_vector = tfidf_transformer.transform(count_vector)"
   ]
  },
  {
   "cell_type": "markdown",
   "metadata": {},
   "source": [
    "#### The more common the word across documents, the lower its score and the more unique a word is to our first document"
   ]
  },
  {
   "cell_type": "code",
   "execution_count": null,
   "metadata": {
    "scrolled": true
   },
   "outputs": [],
   "source": [
    "feature_names = cv.get_feature_names()\n",
    " \n",
    "# get tfidf vector for first document\n",
    "first_document_vector = tf_idf_vector[0]\n",
    " \n",
    "# print the scores\n",
    "tfdf_1 = pd.DataFrame(first_document_vector.T.todense(), index=feature_names, columns=[\"tfidf\"])\n",
    "sorted_tfdf_1 = tfdf_1.sort_values(by=[\"tfidf\"],ascending=False)\n",
    "sorted_tfdf_1"
   ]
  },
  {
   "cell_type": "code",
   "execution_count": null,
   "metadata": {},
   "outputs": [],
   "source": [
    "#the number of importance word\n",
    "valid_tfdf_1 = sorted_tfdf_1[sorted_tfdf_1['tfidf'] > 0]\n",
    "valid_tfdf_1"
   ]
  },
  {
   "cell_type": "code",
   "execution_count": null,
   "metadata": {},
   "outputs": [],
   "source": [
    "# Export to CSV use if needed\n",
    "\n",
    "# Tfidftranformer\n",
    "valid_tfdf_1.to_csv(sample_data_path + 'tfidf1_jd.csv')"
   ]
  },
  {
   "cell_type": "markdown",
   "metadata": {},
   "source": [
    "# Second Method: Tfidfvectorizer "
   ]
  },
  {
   "cell_type": "markdown",
   "metadata": {},
   "source": [
    "### 1.Initialize"
   ]
  },
  {
   "cell_type": "code",
   "execution_count": null,
   "metadata": {},
   "outputs": [],
   "source": [
    "from sklearn.feature_extraction.text import TfidfVectorizer \n",
    " \n",
    "# settings that you use for count vectorizer will go here\n",
    "tfidf_vectorizer = TfidfVectorizer(use_idf=True, stop_words='english')\n",
    " \n",
    "# just send in all your docs here\n",
    "tfidf_vectorizer_vectors = tfidf_vectorizer.fit_transform(documents)"
   ]
  },
  {
   "cell_type": "markdown",
   "metadata": {},
   "source": [
    "### 2. print tfdf"
   ]
  },
  {
   "cell_type": "code",
   "execution_count": null,
   "metadata": {},
   "outputs": [],
   "source": [
    "# get the first vector out (for the first document)\n",
    "first_vector_tfidfvectorizer = tfidf_vectorizer_vectors[0]\n",
    " \n",
    "# place tf-idf values in a pandas data frame\n",
    "tfdf_2 = pd.DataFrame(first_vector_tfidfvectorizer.T.todense(), index=tfidf_vectorizer.get_feature_names(), columns=[\"tfidf\"])\n",
    "sorted_tfdf_2 = tfdf_2.sort_values(by=[\"tfidf\"],ascending=False)\n",
    "sorted_tfdf_2"
   ]
  },
  {
   "cell_type": "code",
   "execution_count": null,
   "metadata": {},
   "outputs": [],
   "source": [
    "valid_tfdf_2 = sorted_tfdf_2[sorted_tfdf_2['tfidf'] > 0]\n",
    "valid_tfdf_2"
   ]
  },
  {
   "cell_type": "markdown",
   "metadata": {},
   "source": [
    "### Removing stopwords\n",
    "\n",
    "We want to remove stopwords from our dataset, so we can focus on words with meaning. "
   ]
  },
  {
   "cell_type": "code",
   "execution_count": null,
   "metadata": {},
   "outputs": [],
   "source": [
    "# settings that you use for count vectorizer will go here\n",
    "tfidf_vectorizer = TfidfVectorizer(use_idf=True, stop_words='english')\n",
    " \n",
    "# just send in all your docs here\n",
    "tfidf_vectorizer_vectors = tfidf_vectorizer.fit_transform(documents)"
   ]
  },
  {
   "cell_type": "code",
   "execution_count": null,
   "metadata": {},
   "outputs": [],
   "source": [
    "# get the first vector out (for the first document)\n",
    "first_vector_tfidfvectorizer = tfidf_vectorizer_vectors[0]\n",
    " \n",
    "# place tf-idf values in a pandas data frame\n",
    "tfdf_2 = pd.DataFrame(first_vector_tfidfvectorizer.T.todense(), index=tfidf_vectorizer.get_feature_names(), columns=[\"tfidf\"])\n",
    "sorted_tfdf_2 = tfdf_2.sort_values(by=[\"tfidf\"],ascending=False)\n",
    "sorted_tfdf_2"
   ]
  },
  {
   "cell_type": "code",
   "execution_count": null,
   "metadata": {},
   "outputs": [],
   "source": [
    "meaningful_tfdf_2 = sorted_tfdf_2[sorted_tfdf_2['tfidf'] > 0]\n",
    "meaningful_tfdf_2"
   ]
  },
  {
   "cell_type": "code",
   "execution_count": null,
   "metadata": {},
   "outputs": [],
   "source": [
    "# Export to CSV use if needed\n",
    "\n",
    "#Tfidfvectorizer\n",
    "meaningful_tfdf_2.to_csv(sample_data_path + 'tfidf2_jd.csv')"
   ]
  },
  {
   "cell_type": "code",
   "execution_count": null,
   "metadata": {},
   "outputs": [],
   "source": []
  }
 ],
 "metadata": {
  "kernelspec": {
   "display_name": "Python 3",
   "language": "python",
   "name": "python3"
  },
  "language_info": {
   "codemirror_mode": {
    "name": "ipython",
    "version": 3
   },
   "file_extension": ".py",
   "mimetype": "text/x-python",
   "name": "python",
   "nbconvert_exporter": "python",
   "pygments_lexer": "ipython3",
   "version": "3.7.3"
  }
 },
 "nbformat": 4,
 "nbformat_minor": 2
}
