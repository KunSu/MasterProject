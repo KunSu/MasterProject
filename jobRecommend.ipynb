{
  "nbformat": 4,
  "nbformat_minor": 0,
  "metadata": {
    "colab": {
      "name": "jobRecommend.ipynb",
      "provenance": [],
      "collapsed_sections": [],
      "toc_visible": true
    },
    "kernelspec": {
      "display_name": "Python 3",
      "language": "python",
      "name": "python3"
    },
    "language_info": {
      "codemirror_mode": {
        "name": "ipython",
        "version": 3
      },
      "file_extension": ".py",
      "mimetype": "text/x-python",
      "name": "python",
      "nbconvert_exporter": "python",
      "pygments_lexer": "ipython3",
      "version": "3.7.4"
    }
  },
  "cells": [
    {
      "cell_type": "markdown",
      "metadata": {
        "id": "BhFepeqGI3A8",
        "colab_type": "text"
      },
      "source": [
        "**Environment set up requiremnt** \n",
        "\n",
        "Please Use colab.google to run this since some of the required enviroment set up is needed\n",
        "\n",
        "if related environment has already being setted up its okay to commend out all the lines from this section start with !"
      ]
    },
    {
      "cell_type": "code",
      "metadata": {
        "colab_type": "code",
        "id": "xmi5nJ5lNozW",
        "outputId": "424fa7e2-386f-437b-c904-a6ff9120927f",
        "colab": {
          "base_uri": "https://localhost:8080/",
          "height": 326
        }
      },
      "source": [
        "!pip install pyspark\n",
        "!apt-get install openjdk-8-jdk-headless -qq > /dev/null\n",
        "\n",
        "import os\n",
        "\n",
        "os.environ[\"JAVA_HOME\"] = \"/usr/lib/jvm/java-8-openjdk-amd64\" \n",
        "\n",
        "!update-alternatives --set java /usr/lib/jvm/java-8-openjdk-amd64/jre/bin/java \n",
        "!java -version\n",
        "\n",
        "from __future__ import print_function\n",
        "\n",
        "import sys\n",
        "\n",
        "if sys.version >= '3':\n",
        "    long = int\n",
        "\n",
        "from pyspark.sql import SparkSession\n",
        "from pyspark import SparkContext, SparkConf\n",
        "\n",
        "from pyspark.ml.evaluation import RegressionEvaluator\n",
        "from pyspark.ml.recommendation import ALS\n",
        "from pyspark.sql import Row\n",
        "import csv\n",
        "import pyspark.sql.functions as f"
      ],
      "execution_count": 1,
      "outputs": [
        {
          "output_type": "stream",
          "text": [
            "Collecting pyspark\n",
            "\u001b[?25l  Downloading https://files.pythonhosted.org/packages/9a/5a/271c416c1c2185b6cb0151b29a91fff6fcaed80173c8584ff6d20e46b465/pyspark-2.4.5.tar.gz (217.8MB)\n",
            "\u001b[K     |████████████████████████████████| 217.8MB 64kB/s \n",
            "\u001b[?25hCollecting py4j==0.10.7\n",
            "\u001b[?25l  Downloading https://files.pythonhosted.org/packages/e3/53/c737818eb9a7dc32a7cd4f1396e787bd94200c3997c72c1dbe028587bd76/py4j-0.10.7-py2.py3-none-any.whl (197kB)\n",
            "\u001b[K     |████████████████████████████████| 204kB 49.4MB/s \n",
            "\u001b[?25hBuilding wheels for collected packages: pyspark\n",
            "  Building wheel for pyspark (setup.py) ... \u001b[?25l\u001b[?25hdone\n",
            "  Created wheel for pyspark: filename=pyspark-2.4.5-py2.py3-none-any.whl size=218257927 sha256=4f10a972a8e66fc89fe9001412437770b8fe27404fe210be2429f2ad8ef8d275\n",
            "  Stored in directory: /root/.cache/pip/wheels/bf/db/04/61d66a5939364e756eb1c1be4ec5bdce6e04047fc7929a3c3c\n",
            "Successfully built pyspark\n",
            "Installing collected packages: py4j, pyspark\n",
            "Successfully installed py4j-0.10.7 pyspark-2.4.5\n",
            "update-alternatives: using /usr/lib/jvm/java-8-openjdk-amd64/jre/bin/java to provide /usr/bin/java (java) in manual mode\n",
            "openjdk version \"1.8.0_252\"\n",
            "OpenJDK Runtime Environment (build 1.8.0_252-8u252-b09-1~18.04-b09)\n",
            "OpenJDK 64-Bit Server VM (build 25.252-b09, mixed mode)\n"
          ],
          "name": "stdout"
        }
      ]
    },
    {
      "cell_type": "markdown",
      "metadata": {
        "id": "ZJBx4ZaNI3BD",
        "colab_type": "text"
      },
      "source": [
        "# Using spark.ml to Generate the result\n",
        "## need to upload the required csv file from previous user-profile-ipynb "
      ]
    },
    {
      "cell_type": "code",
      "metadata": {
        "colab_type": "code",
        "id": "0J2l1ENmxjDD",
        "colab": {}
      },
      "source": [
        "sc = SparkContext(\"local\", \"RecommendationSystem\")\n",
        "spark = SparkSession(sc)"
      ],
      "execution_count": 0,
      "outputs": []
    },
    {
      "cell_type": "code",
      "metadata": {
        "colab_type": "code",
        "id": "Zk9s17lCAXvM",
        "colab": {}
      },
      "source": [
        "lines = spark.read.text(\"./new_user_rating.csv\").rdd"
      ],
      "execution_count": 0,
      "outputs": []
    },
    {
      "cell_type": "markdown",
      "metadata": {
        "id": "mMQKvR53I3BL",
        "colab_type": "text"
      },
      "source": [
        "## Get rid of the hearder"
      ]
    },
    {
      "cell_type": "code",
      "metadata": {
        "colab_type": "code",
        "id": "P2OHtM5XyO49",
        "colab": {}
      },
      "source": [
        "header = lines.first()\n",
        "header = sc.parallelize([header]) \n",
        "lines = lines.subtract(header)"
      ],
      "execution_count": 0,
      "outputs": []
    },
    {
      "cell_type": "code",
      "metadata": {
        "colab_type": "code",
        "id": "v6s1iIQYzn1S",
        "colab": {}
      },
      "source": [
        "parts = lines.map(lambda row: row.value.split(\",\"))\n",
        "ratingsRDD = parts.map(lambda p: Row(userId=int(p[1]), jobId=int(p[2]),rating=float(p[3])))\n",
        "ratings = spark.createDataFrame(ratingsRDD)"
      ],
      "execution_count": 0,
      "outputs": []
    },
    {
      "cell_type": "markdown",
      "metadata": {
        "id": "E-f59mjOI3BS",
        "colab_type": "text"
      },
      "source": [
        "## Split to training and test to a ritio of 8:2\n",
        "### Using Explicit method"
      ]
    },
    {
      "cell_type": "code",
      "metadata": {
        "colab_type": "code",
        "id": "F3nXQl8eQ1j1",
        "outputId": "54f0f7ee-ff3a-4577-edf5-25257302001e",
        "colab": {
          "base_uri": "https://localhost:8080/",
          "height": 34
        }
      },
      "source": [
        "(training, test) = ratings.randomSplit([0.8, 0.2])\n",
        "tpanda = training.toPandas()\n",
        "testpand = test.toPandas()\n",
        "# Build the recommendation model using ALS on the training data\n",
        "# Set cold start strategy to 'drop' to ensure we don't get NaN evaluation metrics\n",
        "# Change implict to true\n",
        "als = ALS(maxIter=5, regParam=0.01, userCol=\"userId\", itemCol=\"jobId\", ratingCol=\"rating\",\n",
        "          coldStartStrategy=\"drop\")\n",
        "model = als.fit(training)\n",
        "\n",
        "# Evaluate the model by computing the RMSE on the test data\n",
        "predictions = model.transform(test)\n",
        "evaluator = RegressionEvaluator(metricName=\"rmse\", labelCol=\"rating\",\n",
        "                                predictionCol=\"prediction\")\n",
        "rmse = evaluator.evaluate(predictions)\n",
        "print(\"Root-mean-square error = \" + str(rmse))\n",
        "\n",
        "# Generate top 10 job recommendations for each user\n",
        "userRecs = model.recommendForAllUsers(5)"
      ],
      "execution_count": 6,
      "outputs": [
        {
          "output_type": "stream",
          "text": [
            "Root-mean-square error = 0.45669927016103634\n"
          ],
          "name": "stdout"
        }
      ]
    },
    {
      "cell_type": "code",
      "metadata": {
        "colab_type": "code",
        "id": "IhIK4Wkdc1O-",
        "outputId": "9e62dd88-5106-4f1d-b648-138209a43864",
        "colab": {
          "base_uri": "https://localhost:8080/",
          "height": 459
        }
      },
      "source": [
        "userRecs.show()"
      ],
      "execution_count": 7,
      "outputs": [
        {
          "output_type": "stream",
          "text": [
            "+------+--------------------+\n",
            "|userId|     recommendations|\n",
            "+------+--------------------+\n",
            "|   463|[[747871, 5.27016...|\n",
            "|   496|[[1102826, 4.9978...|\n",
            "|  1645|[[300942, 5.29537...|\n",
            "|  5156|[[631948, 15.0548...|\n",
            "| 15846|[[896022, 5.84122...|\n",
            "| 16339|[[552352, 3.72024...|\n",
            "| 18911|[[777971, 4.99780...|\n",
            "| 18944|[[529912, 3.73586...|\n",
            "| 21220|[[859840, 2.92568...|\n",
            "| 53191|[[480410, 3.43044...|\n",
            "| 61051|[[218852, 4.10094...|\n",
            "| 78064|[[314851, 4.40261...|\n",
            "|120861|[[811923, 2.28984...|\n",
            "|130062|[[585618, 2.21749...|\n",
            "|144685|[[6867, 5.772391]...|\n",
            "|160767|[[1030281, 4.7135...|\n",
            "|167881|[[400568, 2.94304...|\n",
            "|172319|[[747871, 7.60119...|\n",
            "|173508|[[881350, 5.09224...|\n",
            "|191355|[[400568, 9.17174...|\n",
            "+------+--------------------+\n",
            "only showing top 20 rows\n",
            "\n"
          ],
          "name": "stdout"
        }
      ]
    },
    {
      "cell_type": "markdown",
      "metadata": {
        "id": "BbFfJl5_I3Ba",
        "colab_type": "text"
      },
      "source": [
        "### Saving the result to csv file"
      ]
    },
    {
      "cell_type": "code",
      "metadata": {
        "colab_type": "code",
        "id": "Y-EgesLmCrpA",
        "colab": {}
      },
      "source": [
        "userRecs.toPandas().to_csv('Top10ForUserwithExplict.csv')"
      ],
      "execution_count": 0,
      "outputs": []
    },
    {
      "cell_type": "markdown",
      "metadata": {
        "id": "saJAZTLTI3Be",
        "colab_type": "text"
      },
      "source": [
        "### Using implicit method"
      ]
    },
    {
      "cell_type": "code",
      "metadata": {
        "id": "5cKrfGoqI3Be",
        "colab_type": "code",
        "colab": {
          "base_uri": "https://localhost:8080/",
          "height": 34
        },
        "outputId": "f0258035-35f5-4d1a-fc5f-4ace89af495e"
      },
      "source": [
        "(training, test) = ratings.randomSplit([0.8, 0.2])\n",
        "tpanda = training.toPandas()\n",
        "testpand = test.toPandas()\n",
        "# Build the recommendation model using ALS on the training data\n",
        "# Set cold start strategy to 'drop' to ensure we don't get NaN evaluation metrics\n",
        "# Change implict to true\n",
        "als = ALS(maxIter=5, regParam=0.01, implicitPrefs=True, userCol=\"userId\", itemCol=\"jobId\", ratingCol=\"rating\",\n",
        "          coldStartStrategy=\"drop\")\n",
        "model = als.fit(training)\n",
        "\n",
        "# Evaluate the model by computing the RMSE on the test data\n",
        "predictions = model.transform(test)\n",
        "evaluator = RegressionEvaluator(metricName=\"rmse\", labelCol=\"rating\",\n",
        "                                predictionCol=\"prediction\")\n",
        "rmse = evaluator.evaluate(predictions)\n",
        "print(\"Root-mean-square error = \" + str(rmse))\n",
        "\n",
        "# Generate top 10 job recommendations for each user\n",
        "userRecs = model.recommendForAllUsers(5)"
      ],
      "execution_count": 9,
      "outputs": [
        {
          "output_type": "stream",
          "text": [
            "Root-mean-square error = 1.0403010499817478\n"
          ],
          "name": "stdout"
        }
      ]
    },
    {
      "cell_type": "code",
      "metadata": {
        "id": "29NWviPPI3Bh",
        "colab_type": "code",
        "colab": {
          "base_uri": "https://localhost:8080/",
          "height": 459
        },
        "outputId": "1a6c9af5-55e3-4aca-9636-7f8737d8df7f"
      },
      "source": [
        "userRecs.show()"
      ],
      "execution_count": 10,
      "outputs": [
        {
          "output_type": "stream",
          "text": [
            "+------+--------------------+\n",
            "|userId|     recommendations|\n",
            "+------+--------------------+\n",
            "|   463|[[187358, 1.49949...|\n",
            "|   496|[[17361, 1.340160...|\n",
            "|  1645|[[844547, 0.00471...|\n",
            "|  5156|[[1038468, 0.0683...|\n",
            "| 15846|[[168797, 7.65071...|\n",
            "| 16339|[[496109, 3.43327...|\n",
            "| 18911|[[896947, 6.43398...|\n",
            "| 18944|[[157903, 4.44240...|\n",
            "| 21220|[[474324, 0.00130...|\n",
            "| 53191|[[820945, 7.38820...|\n",
            "| 61051|[[790470, 0.16697...|\n",
            "| 78064|[[1042356, 0.4454...|\n",
            "|120861|[[900787, 9.52615...|\n",
            "|130062|[[1042356, 1.2523...|\n",
            "|144685|[[896947, 0.08329...|\n",
            "|160767|[[1012931, 2.1719...|\n",
            "|167881|[[900787, 1.63941...|\n",
            "|172319|[[896947, 0.82684...|\n",
            "|173508|[[168797, 0.00736...|\n",
            "|191355|[[474324, 0.35577...|\n",
            "+------+--------------------+\n",
            "only showing top 20 rows\n",
            "\n"
          ],
          "name": "stdout"
        }
      ]
    },
    {
      "cell_type": "markdown",
      "metadata": {
        "id": "ERDQx8EQLPFR",
        "colab_type": "text"
      },
      "source": [
        "### Saving the result to csv file"
      ]
    },
    {
      "cell_type": "code",
      "metadata": {
        "id": "DK0L9iRVI3Bl",
        "colab_type": "code",
        "colab": {}
      },
      "source": [
        "userRecs.toPandas().to_csv('Top10ForUserwithImplicit.csv')"
      ],
      "execution_count": 0,
      "outputs": []
    }
  ]
}