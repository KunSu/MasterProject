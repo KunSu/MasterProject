{
  "nbformat": 4,
  "nbformat_minor": 0,
  "metadata": {
    "colab": {
      "name": "jobRecommend.ipynb",
      "provenance": []
    },
    "kernelspec": {
      "name": "python3",
      "display_name": "Python 3"
    }
  },
  "cells": [
    {
      "cell_type": "code",
      "metadata": {
        "id": "xmi5nJ5lNozW",
        "colab_type": "code",
        "colab": {
          "base_uri": "https://localhost:8080/",
          "height": 326
        },
        "outputId": "376ec180-7e8a-4b03-ed92-e30aceb50cc4"
      },
      "source": [
        "!pip install pyspark\n",
        "!apt-get install openjdk-8-jdk-headless -qq > /dev/null\n",
        "import os\n",
        "os.environ[\"JAVA_HOME\"] = \"/usr/lib/jvm/java-8-openjdk-amd64\" \n",
        "!update-alternatives --set java /usr/lib/jvm/java-8-openjdk-amd64/jre/bin/java \n",
        "!java -version\n",
        "from __future__ import print_function\n",
        "\n",
        "import sys\n",
        "if sys.version >= '3':\n",
        "    long = int\n",
        "\n",
        "from pyspark.sql import SparkSession\n",
        "from pyspark import SparkContext, SparkConf\n",
        "\n",
        "from pyspark.ml.evaluation import RegressionEvaluator\n",
        "from pyspark.ml.recommendation import ALS\n",
        "from pyspark.sql import Row\n",
        "import csv\n",
        "#import org.apache.spark.sql.Column\n",
        "import pyspark.sql.functions as f"
      ],
      "execution_count": 1,
      "outputs": [
        {
          "output_type": "stream",
          "text": [
            "Collecting pyspark\n",
            "\u001b[?25l  Downloading https://files.pythonhosted.org/packages/9a/5a/271c416c1c2185b6cb0151b29a91fff6fcaed80173c8584ff6d20e46b465/pyspark-2.4.5.tar.gz (217.8MB)\n",
            "\u001b[K     |████████████████████████████████| 217.8MB 59kB/s \n",
            "\u001b[?25hCollecting py4j==0.10.7\n",
            "\u001b[?25l  Downloading https://files.pythonhosted.org/packages/e3/53/c737818eb9a7dc32a7cd4f1396e787bd94200c3997c72c1dbe028587bd76/py4j-0.10.7-py2.py3-none-any.whl (197kB)\n",
            "\u001b[K     |████████████████████████████████| 204kB 47.5MB/s \n",
            "\u001b[?25hBuilding wheels for collected packages: pyspark\n",
            "  Building wheel for pyspark (setup.py) ... \u001b[?25l\u001b[?25hdone\n",
            "  Created wheel for pyspark: filename=pyspark-2.4.5-py2.py3-none-any.whl size=218257927 sha256=e3cbde7fd45618bf204c5f0766d61fdb75da89cf4d20d76dc81243dadbaa6052\n",
            "  Stored in directory: /root/.cache/pip/wheels/bf/db/04/61d66a5939364e756eb1c1be4ec5bdce6e04047fc7929a3c3c\n",
            "Successfully built pyspark\n",
            "Installing collected packages: py4j, pyspark\n",
            "Successfully installed py4j-0.10.7 pyspark-2.4.5\n",
            "update-alternatives: using /usr/lib/jvm/java-8-openjdk-amd64/jre/bin/java to provide /usr/bin/java (java) in manual mode\n",
            "openjdk version \"1.8.0_242\"\n",
            "OpenJDK Runtime Environment (build 1.8.0_242-8u242-b08-0ubuntu3~18.04-b08)\n",
            "OpenJDK 64-Bit Server VM (build 25.242-b08, mixed mode)\n"
          ],
          "name": "stdout"
        }
      ]
    },
    {
      "cell_type": "code",
      "metadata": {
        "id": "0J2l1ENmxjDD",
        "colab_type": "code",
        "colab": {}
      },
      "source": [
        "sc = SparkContext(\"local\", \"RecommendationSystem\")\n",
        "spark = SparkSession(sc)"
      ],
      "execution_count": 0,
      "outputs": []
    },
    {
      "cell_type": "code",
      "metadata": {
        "id": "Zk9s17lCAXvM",
        "colab_type": "code",
        "colab": {}
      },
      "source": [
        "lines = spark.read.text(\"./new_user_rating.csv\").rdd"
      ],
      "execution_count": 0,
      "outputs": []
    },
    {
      "cell_type": "code",
      "metadata": {
        "id": "P2OHtM5XyO49",
        "colab_type": "code",
        "colab": {}
      },
      "source": [
        "#Get rid of the hearder\n",
        "header = lines.first()\n",
        "header = sc.parallelize([header]) \n",
        "lines = lines.subtract(header)"
      ],
      "execution_count": 0,
      "outputs": []
    },
    {
      "cell_type": "code",
      "metadata": {
        "id": "v6s1iIQYzn1S",
        "colab_type": "code",
        "colab": {}
      },
      "source": [
        "parts = lines.map(lambda row: row.value.split(\",\"))\n",
        "ratingsRDD = parts.map(lambda p: Row(userId=int(p[1]), jobId=int(p[2]),rating=float(p[3])))\n",
        "ratings = spark.createDataFrame(ratingsRDD)"
      ],
      "execution_count": 0,
      "outputs": []
    },
    {
      "cell_type": "code",
      "metadata": {
        "id": "F3nXQl8eQ1j1",
        "colab_type": "code",
        "colab": {
          "base_uri": "https://localhost:8080/",
          "height": 34
        },
        "outputId": "75cce14f-59e0-4880-efba-018c7e7a2069"
      },
      "source": [
        "#Split to training and test to a ritio of 8:2\n",
        "(training, test) = ratings.randomSplit([0.8, 0.2])\n",
        "tpanda = training.toPandas()\n",
        "testpand = test.toPandas()\n",
        "# Build the recommendation model using ALS on the training data\n",
        "# Set cold start strategy to 'drop' to ensure we don't get NaN evaluation metrics\n",
        "# Change implict to true\n",
        "als = ALS(maxIter=5, regParam=0.01, implicitPrefs=True, userCol=\"userId\", itemCol=\"jobId\", ratingCol=\"rating\",\n",
        "          coldStartStrategy=\"drop\")\n",
        "model = als.fit(training)\n",
        "\n",
        "# Evaluate the model by computing the RMSE on the test data\n",
        "predictions = model.transform(test)\n",
        "evaluator = RegressionEvaluator(metricName=\"rmse\", labelCol=\"rating\",\n",
        "                                predictionCol=\"prediction\")\n",
        "rmse = evaluator.evaluate(predictions)\n",
        "print(\"Root-mean-square error = \" + str(rmse))\n",
        "\n",
        "# Generate top 10 job recommendations for each user\n",
        "userRecs = model.recommendForAllUsers(5)"
      ],
      "execution_count": 24,
      "outputs": [
        {
          "output_type": "stream",
          "text": [
            "Root-mean-square error = 1.0420623624206533\n"
          ],
          "name": "stdout"
        }
      ]
    },
    {
      "cell_type": "code",
      "metadata": {
        "id": "IhIK4Wkdc1O-",
        "colab_type": "code",
        "colab": {
          "base_uri": "https://localhost:8080/",
          "height": 459
        },
        "outputId": "12ff6030-5064-44c3-bf22-1967a264008b"
      },
      "source": [
        "userRecs.show()"
      ],
      "execution_count": 19,
      "outputs": [
        {
          "output_type": "stream",
          "text": [
            "+------+--------------------+\n",
            "|userId|     recommendations|\n",
            "+------+--------------------+\n",
            "|   463|[[199125, 4.15083...|\n",
            "|   496|[[1104251, 5.0441...|\n",
            "|  1645|[[222842, 10.4480...|\n",
            "|  5156|[[519704, 18.1769...|\n",
            "| 15846|[[842341, 4.99780...|\n",
            "| 16339|[[372741, 4.16197...|\n",
            "| 18911|[[186978, 5.39721...|\n",
            "| 18944|[[205937, 3.47751...|\n",
            "| 21220|[[847325, 3.54416...|\n",
            "| 53191|[[657615, 2.85625...|\n",
            "| 61051|[[911258, 4.04819...|\n",
            "| 78064|[[1030281, 5.5502...|\n",
            "|120861|[[1030281, 2.6514...|\n",
            "|130062|[[818044, 2.54349...|\n",
            "|144685|[[205937, 3.18195...|\n",
            "|160767|[[519704, 4.25704...|\n",
            "|167881|[[1080241, 2.6779...|\n",
            "|172319|[[204866, 4.89816...|\n",
            "|173508|[[791739, 2.87190...|\n",
            "|191355|[[399121, 7.07733...|\n",
            "+------+--------------------+\n",
            "only showing top 20 rows\n",
            "\n"
          ],
          "name": "stdout"
        }
      ]
    },
    {
      "cell_type": "code",
      "metadata": {
        "id": "Y-EgesLmCrpA",
        "colab_type": "code",
        "colab": {}
      },
      "source": [
        "# Saving the result to csv file\n",
        "userRecs.toPandas().to_csv('Top10ForUserwithImplicit.csv')"
      ],
      "execution_count": 0,
      "outputs": []
    }
  ]
}