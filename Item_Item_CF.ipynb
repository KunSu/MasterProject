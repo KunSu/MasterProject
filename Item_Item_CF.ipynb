{
 "cells": [
  {
   "cell_type": "markdown",
   "metadata": {},
   "source": [
    "### Import the Required Library and Load the Sample Dataset"
   ]
  },
  {
   "cell_type": "code",
   "execution_count": null,
   "metadata": {},
   "outputs": [],
   "source": [
    "# import all the required library\n",
    "from sklearn.feature_extraction.text import TfidfTransformer\n",
    "from sklearn.feature_extraction.text import CountVectorizer\n",
    "from sklearn.feature_extraction.text import TfidfVectorizer\n",
    "from sklearn.metrics.pairwise import cosine_similarity \n",
    "from sklearn.feature_extraction.text import CountVectorizer\n",
    "from sklearn.feature_extraction.text import TfidfVectorizer\n",
    "import string \n",
    "import numpy as np\n",
    "import pandas as pd\n",
    "\n",
    "# load the sample data\n",
    "sample_data_path = \"data/sample_data/\"\n",
    "jobs = pd.read_csv(sample_data_path + 'jobs_sample_cleared.csv')\n",
    "apps = pd.read_csv(sample_data_path + 'apps_sample.csv')\n",
    "users = pd.read_csv(sample_data_path + 'users_sample.csv')"
   ]
  },
  {
   "cell_type": "markdown",
   "metadata": {},
   "source": [
    "### Data Transformation"
   ]
  },
  {
   "cell_type": "code",
   "execution_count": null,
   "metadata": {
    "pycharm": {
     "is_executing": true
    }
   },
   "outputs": [],
   "source": [
    "# convert all the attribute of each job into a job string. \n",
    "jobs_collection = []\n",
    "for i in range (len(jobs)):\n",
    "    text = \"{} {} {} {} {}\".format(jobs.loc[i, 'Title'],\n",
    "                                   jobs.loc[i, 'Description'],\n",
    "                                   jobs.loc[i, 'Requirements'],\n",
    "                                   jobs.loc[i, 'State'],\n",
    "                                   jobs.loc[i, 'City'])\n",
    "    jobs_collection.append(text)"
   ]
  },
  {
   "cell_type": "markdown",
   "metadata": {},
   "source": [
    "### Data Cleaning"
   ]
  },
  {
   "cell_type": "code",
   "execution_count": null,
   "metadata": {
    "pycharm": {
     "is_executing": true
    }
   },
   "outputs": [],
   "source": [
    "\n",
    "from nltk.corpus import stopwords\n",
    "import re\n",
    "stopwords = stopwords.words('english')\n",
    "def clean_string(text):\n",
    "    # remove punctuation\n",
    "    text = ''.join([word for word in text if word not in string.punctuation])\n",
    "    # lower all letters \n",
    "    text = text.lower()\n",
    "    # remove stop words \n",
    "    text = ' '.join([word for word in text.split() if word not in stopwords])\n",
    "    # remove any digit and letter combinations\n",
    "    text = re.sub(r'\\w*[0-9]\\w*','',text)\n",
    "    return text"
   ]
  },
  {
   "cell_type": "code",
   "execution_count": null,
   "metadata": {
    "pycharm": {
     "is_executing": true
    }
   },
   "outputs": [],
   "source": [
    "# clean all the jobs string in jobs_collections\n",
    "cleaned_jobs_collection = list(map(clean_string, jobs_collection))"
   ]
  },
  {
   "cell_type": "markdown",
   "metadata": {},
   "source": [
    "### Transform Each Job Text String into a Similarity Matrix "
   ]
  },
  {
   "cell_type": "code",
   "execution_count": null,
   "metadata": {
    "pycharm": {
     "is_executing": true
    }
   },
   "outputs": [],
   "source": [
    "# create the TfidfVectorizer\n",
    "tfidf_vectorizer = TfidfVectorizer(use_idf=True)\n",
    " \n",
    "# transform the job description into a tfidf vector\n",
    "tfidf_vectorizer_vectors = tfidf_vectorizer.fit_transform(cleaned_jobs_collection)"
   ]
  },
  {
   "cell_type": "code",
   "execution_count": null,
   "metadata": {
    "pycharm": {
     "is_executing": true
    }
   },
   "outputs": [],
   "source": [
    "# generate the TF-IDF words for each job string and only keep the words that has a TF-IDF value higher than 0.2\n",
    "tfidf_jobs_description = []\n",
    "for i in range(len(cleaned_jobs_collection)):\n",
    "    first_vector_tfidfvectorizer = tfidf_vectorizer_vectors[i]\n",
    "    tfidf = pd.DataFrame(first_vector_tfidfvectorizer.T.todense(), index=tfidf_vectorizer.get_feature_names(), columns=[\"tfidf\"])\n",
    "    sorted_tfidf = tfidf.sort_values(by=[\"tfidf\"],ascending=False)\n",
    "    sorted_tfidf = sorted_tfidf.head(10)\n",
    "    tfidf_list = []\n",
    "    for i in range(len(sorted_tfidf)):\n",
    "        if sorted_tfidf.iloc[i]['tfidf'] >= 0.2:\n",
    "            tfidf_list.append(sorted_tfidf.iloc[i].name)\n",
    "    tfidf_jobs_description.append(tfidf_list)\n"
   ]
  },
  {
   "cell_type": "code",
   "execution_count": null,
   "metadata": {
    "pycharm": {
     "is_executing": true
    }
   },
   "outputs": [],
   "source": [
    "# create the matrix with TF-IDF words as each column and job_id as row\n",
    "vectorizer = CountVectorizer().fit_transform(tfidf_jobs_description)\n",
    "vectors = vectorizer.toarray()"
   ]
  },
  {
   "cell_type": "code",
   "execution_count": null,
   "metadata": {
    "pycharm": {
     "is_executing": true
    }
   },
   "outputs": [],
   "source": [
    "# convert the number higher than 1 in the matrix to 1. \n",
    "vector = np.where(vectors > 0, 1, vectors)"
   ]
  },
  {
   "cell_type": "code",
   "execution_count": null,
   "metadata": {
    "pycharm": {
     "is_executing": true
    }
   },
   "outputs": [],
   "source": [
    "# calculate the cosine_similarity of each pair of the job_id\n",
    "cos_sim_matrix = cosine_similarity(vectors)"
   ]
  },
  {
   "cell_type": "code",
   "execution_count": null,
   "metadata": {
    "pycharm": {
     "is_executing": true
    }
   },
   "outputs": [],
   "source": [
    "# convert_job_id_to_index\n",
    "def job_id_to_index(job_id):\n",
    "    return jobs.index[jobs['JobID'] == job_id].values[0]\n",
    "\n",
    "# convert_job_index_to_job_id\n",
    "def job_index_to_id(job_index):\n",
    "    return jobs.iloc[job_index]['JobID']\n",
    "\n",
    "# find similar job of a specific job\n",
    "def find_similar_job(job_id):\n",
    "    job_index = job_id_to_index(job_id)\n",
    "    similar_jobs = []\n",
    "    for i in range(len(vectors)):\n",
    "        if cos_sim_matrix[job_index][i] >= 0.1 and i != job_index:\n",
    "            similar_jobs.append(jobs.iloc[i]['JobID'])\n",
    "    return similar_jobs"
   ]
  },
  {
   "cell_type": "markdown",
   "metadata": {
    "pycharm": {
     "is_executing": true
    }
   },
   "source": []
  },
  {
   "cell_type": "code",
   "execution_count": null,
   "metadata": {
    "pycharm": {
     "is_executing": true
    }
   },
   "outputs": [],
   "source": [
    "# find the similarity between any two jobs\n",
    "def cosine_sim(job_id_1, job_id_2):\n",
    "    job_index_1 = job_id_to_index(job_id_1)\n",
    "    job_index_2 = job_id_to_index(job_id_2)\n",
    "    return cos_sim_matrix[job_index_1][job_index_2] "
   ]
  },
  {
   "cell_type": "code",
   "execution_count": null,
   "metadata": {
    "pycharm": {
     "is_executing": true
    }
   },
   "outputs": [],
   "source": [
    "# check whether a user applied a job or not\n",
    "def user_applied_jobs_check(user_id, job_id):\n",
    "    user_applied_jobs = apps.loc[apps['UserID'] == user_id]\n",
    "    if job_id in user_applied_jobs['JobID'] is False:\n",
    "        return 0\n",
    "    else:\n",
    "        return 1\n",
    "\n",
    "# find what jobs the user has applied\n",
    "def user_applied_jobs_list(user_id):\n",
    "    user_applied_jobs = apps.loc[apps['UserID'] == user_id]\n",
    "    return user_applied_jobs['JobID']"
   ]
  },
  {
   "cell_type": "markdown",
   "metadata": {},
   "source": [
    "### Generate the Recommended Jobs for Users. "
   ]
  },
  {
   "cell_type": "code",
   "execution_count": null,
   "metadata": {
    "pycharm": {
     "is_executing": true
    }
   },
   "outputs": [],
   "source": [
    "# calculate the preference value for a user and a job\n",
    "def user_job_pref(user_id, job_id):\n",
    "    similar_jobs = find_similar_job(job_id)\n",
    "    user_apply_job = user_applied_jobs_list(user_id)\n",
    "    mutual_job = set(similar_jobs) & set(user_apply_job)\n",
    "    if len(mutual_job) == 0:\n",
    "        return 0\n",
    "    sum1 = 0 \n",
    "    sum2 = 0\n",
    "    for sim_job_id in mutual_job:\n",
    "        sum1 = cosine_sim(job_id, sim_job_id) * user_applied_jobs_check(user_id, sim_job_id) + sum1\n",
    "    return sum1\n",
    "    "
   ]
  },
  {
   "cell_type": "code",
   "execution_count": null,
   "metadata": {
    "pycharm": {
     "is_executing": true
    }
   },
   "outputs": [],
   "source": [
    "# find the recommeded jobs for a specific user\n",
    "def recommed_jobs(user_id):\n",
    "    job_id_recommend = pd.DataFrame(columns=['JobID', 'Preference'])\n",
    "    for i in range(3915):\n",
    "        job_id = job_index_to_id(i)\n",
    "        preference = user_job_pref(user_id, job_id)\n",
    "        if preference > 0.3:\n",
    "            job_id_recommend = job_id_recommend.append({'JobID': job_id,'Preference':preference}, ignore_index=True)\n",
    "    job_id_recommendation = job_id_recommend.sort_values(by=['Preference'],ascending=False)\n",
    "    return job_id_recommendation['JobID']"
   ]
  },
  {
   "cell_type": "markdown",
   "metadata": {},
   "source": [
    "### Recommendation Result Evaluation"
   ]
  },
  {
   "cell_type": "code",
   "execution_count": null,
   "metadata": {
    "pycharm": {
     "is_executing": true
    }
   },
   "outputs": [],
   "source": [
    "# calculate the precision and recall of the model based on 1000 users data.\n",
    "TP = 0 \n",
    "TN = 0\n",
    "FN = 0\n",
    "FP = 0\n",
    "\n",
    "for i in range(1000):\n",
    "    user_id = users.iloc[i]['UserID']\n",
    "    print(user_id)\n",
    "    recommend_list = recommed_jobs(user_id)\n",
    "    app_list = user_applied_jobs_list(user_id)\n",
    "    print(set(recommend_list) & set(app_list))\n",
    "    TP = len(set(recommend_list) & set(app_list)) + TP\n",
    "    FN = (len(set(app_list)) - len(set(recommend_list) & set(app_list))) + FN\n",
    "    FP = (len(set(recommend_list)) - len(set(recommend_list) & set(app_list))) + FP\n",
    "    \n",
    "precision = TP / (TP + FP)\n",
    "recall = TP / (TP + FN)"
   ]
  }
 ],
 "metadata": {
  "kernelspec": {
   "display_name": "Python 3",
   "language": "python",
   "name": "python3"
  }
 },
 "nbformat": 4,
 "nbformat_minor": 1
}