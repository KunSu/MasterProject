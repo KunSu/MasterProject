{
 "cells": [
  {
   "cell_type": "code",
   "execution_count": null,
   "metadata": {},
   "outputs": [],
   "source": [
    "import pandas as pd \n",
    "import numpy as np\n",
    "\n",
    "# local variables\n",
    "path = 'data/raw_data/'\n",
    "sample_data_path = 'data/sample_data/'\n",
    "\n",
    "# user data\n",
    "user = pd.read_csv(path + 'users.tsv',sep='\\t')\n",
    "# application data\n",
    "apps = pd.read_csv(path + 'apps.tsv',sep='\\t')\n",
    "# jobs data\n",
    "jobs = pd.read_csv(path + 'jobs.tsv',sep='\\t',error_bad_lines=False)\n",
    "# user history data \n",
    "user_history= pd.read_csv(path + 'user_history.tsv',sep='\\t')"
   ]
  },
  {
   "cell_type": "code",
   "execution_count": null,
   "metadata": {},
   "outputs": [],
   "source": [
    "# Get the first 100000 user \n",
    "sample_size = 1000\n",
    "sample_users = user.head(sample_size)\n",
    "sample_users_id = []\n",
    "for row in sample_users.itertuples():\n",
    "    sample_users_id.append(row.UserID)\n"
   ]
  },
  {
   "cell_type": "code",
   "execution_count": null,
   "metadata": {},
   "outputs": [],
   "source": [
    "apps_sample = apps.loc[apps['UserID'].isin(sample_users_id)]\n",
    "apps_sample"
   ]
  },
  {
   "cell_type": "code",
   "execution_count": null,
   "metadata": {},
   "outputs": [],
   "source": [
    "# save to file\n",
    "apps_sample.to_csv(sample_data_path + 'apps_sample.csv')"
   ]
  },
  {
   "cell_type": "code",
   "execution_count": null,
   "metadata": {},
   "outputs": [],
   "source": [
    "sample_jobs_id = []\n",
    "for row in apps_sample.itertuples():\n",
    "    sample_jobs_id.append(row.JobID)"
   ]
  },
  {
   "cell_type": "code",
   "execution_count": null,
   "metadata": {},
   "outputs": [],
   "source": [
    "#jobs_sample = jobs.loc[apps['JobID'].isin(sample_jobs_id)] #this is wrong\n",
    "jobs_sample = jobs[jobs['JobID'].isin(sample_jobs_id)]"
   ]
  },
  {
   "cell_type": "code",
   "execution_count": null,
   "metadata": {},
   "outputs": [],
   "source": [
    "jobs_sample.to_csv(sample_data_path + 'jobs_sample.csv')"
   ]
  },
  {
   "cell_type": "code",
   "execution_count": null,
   "metadata": {},
   "outputs": [],
   "source": [
    "sample_users.to_csv(sample_data_path + 'users_sample.csv')"
   ]
  },
  {
   "cell_type": "code",
   "execution_count": null,
   "metadata": {},
   "outputs": [],
   "source": [
    "user_history_sample = user_history.loc[user_history['UserID'].isin(sample_users_id)]\n",
    "user_history_sample"
   ]
  },
  {
   "cell_type": "code",
   "execution_count": null,
   "metadata": {},
   "outputs": [],
   "source": [
    "user_history_sample.to_csv(sample_data_path + 'user_history_sample.csv')"
   ]
  },
  {
   "cell_type": "code",
   "execution_count": null,
   "metadata": {},
   "outputs": [],
   "source": []
  }
 ],
 "metadata": {
  "kernelspec": {
   "display_name": "Python 3",
   "language": "python",
   "name": "python3"
  },
  "language_info": {
   "codemirror_mode": {
    "name": "ipython",
    "version": 3
   },
   "file_extension": ".py",
   "mimetype": "text/x-python",
   "name": "python",
   "nbconvert_exporter": "python",
   "pygments_lexer": "ipython3",
   "version": "3.7.4"
  }
 },
 "nbformat": 4,
 "nbformat_minor": 1
}
