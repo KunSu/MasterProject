{
 "cells": [
  {
   "cell_type": "code",
   "execution_count": 38,
   "metadata": {},
   "outputs": [],
   "source": [
    "#reference: https://kavita-ganesan.com/tfidftransformer-tfidfvectorizer-usage-differences/\n",
    "import matplotlib.pyplot as plt\n",
    "import numpy as np\n",
    "import pandas as pd \n",
    "from sklearn.feature_extraction.text import TfidfTransformer\n",
    "from sklearn.feature_extraction.text import CountVectorizer\n",
    "\n",
    "# local variables\n",
    "sample_data_path = r'C:\\Users\\steve\\Documents\\256\\Data\\sample_data/'\n",
    "\n",
    "# user data\n",
    "user = pd.read_csv(sample_data_path + 'users_sample.csv')\n",
    "# jobs data\n",
    "jobs = pd.read_csv(sample_data_path + 'jobs_sample_cleared.csv')\n",
    "# user history data \n",
    "user_history = pd.read_csv(sample_data_path + 'user_history_sample.csv')\n",
    "# apply history data \n",
    "app = pd.read_csv(sample_data_path + 'apps_sample.csv')"
   ]
  },
  {
   "cell_type": "markdown",
   "metadata": {},
   "source": [
    "## Clean up NA value"
   ]
  },
  {
   "cell_type": "code",
   "execution_count": 39,
   "metadata": {},
   "outputs": [
    {
     "data": {
      "text/plain": [
       "Unnamed: 0        0\n",
       "JobID             0\n",
       "Title             0\n",
       "Description       1\n",
       "Requirements    201\n",
       "State             0\n",
       "City              0\n",
       "dtype: int64"
      ]
     },
     "execution_count": 39,
     "metadata": {},
     "output_type": "execute_result"
    }
   ],
   "source": [
    "jobs.isnull().sum()"
   ]
  },
  {
   "cell_type": "code",
   "execution_count": 40,
   "metadata": {},
   "outputs": [],
   "source": [
    "jobs.Description = jobs.Description.fillna(\"\")"
   ]
  },
  {
   "cell_type": "code",
   "execution_count": 41,
   "metadata": {},
   "outputs": [
    {
     "data": {
      "text/plain": [
       "Unnamed: 0        0\n",
       "JobID             0\n",
       "Title             0\n",
       "Description       0\n",
       "Requirements    201\n",
       "State             0\n",
       "City              0\n",
       "dtype: int64"
      ]
     },
     "execution_count": 41,
     "metadata": {},
     "output_type": "execute_result"
    }
   ],
   "source": [
    "jobs.isnull().sum()"
   ]
  },
  {
   "cell_type": "markdown",
   "metadata": {},
   "source": [
    "### Build TFT Doc vector"
   ]
  },
  {
   "cell_type": "code",
   "execution_count": 42,
   "metadata": {},
   "outputs": [],
   "source": [
    "#Combine the column u need (adding city and state increase the word size to 180,000 )\n",
    "documents = []\n",
    "for i in range (len(jobs)):\n",
    "    text = \"{} {} {} {}\".format(jobs.loc[i, 'Title'],\n",
    "                                   jobs.loc[i, 'Description'],\n",
    "                                   jobs.loc[i, 'State'],\n",
    "                                   jobs.loc[i, 'City'])\n",
    "    documents.append(text)"
   ]
  },
  {
   "cell_type": "markdown",
   "metadata": {},
   "source": [
    "## TFIDF Initialize"
   ]
  },
  {
   "cell_type": "code",
   "execution_count": 43,
   "metadata": {},
   "outputs": [
    {
     "data": {
      "text/plain": [
       "<3915x24563 sparse matrix of type '<class 'numpy.float64'>'\n",
       "\twith 377066 stored elements in Compressed Sparse Row format>"
      ]
     },
     "execution_count": 43,
     "metadata": {},
     "output_type": "execute_result"
    }
   ],
   "source": [
    "from sklearn.feature_extraction.text import TfidfVectorizer \n",
    " \n",
    "# settings that you use for count vectorizer will go here\n",
    "tfidf_vectorizer = TfidfVectorizer(use_idf=True, stop_words='english')\n",
    " \n",
    "# just send in all your docs here\n",
    "tfidf_vectorizer_vectors = tfidf_vectorizer.fit_transform(documents)\n",
    "tfidf_vectorizer_vectors"
   ]
  },
  {
   "cell_type": "code",
   "execution_count": 44,
   "metadata": {},
   "outputs": [],
   "source": [
    "# place tf-idf values in a pandas data frame\n",
    "tfdf_2 = pd.DataFrame(tfidf_vectorizer_vectors[0].T.todense(), index=tfidf_vectorizer.get_feature_names(), columns=[\"tfidf\"])\n",
    "sorted_tfdf_2 = tfdf_2.sort_values(by=[\"tfidf\"],ascending=False)\n",
    "valid_tfdf_2 = sorted_tfdf_2[sorted_tfdf_2['tfidf'] > 0]\n",
    "dictionary = valid_tfdf_2.T.to_dict('list')"
   ]
  },
  {
   "cell_type": "markdown",
   "metadata": {},
   "source": [
    "## get All valid TFIDF Word from the entire document"
   ]
  },
  {
   "cell_type": "code",
   "execution_count": 45,
   "metadata": {},
   "outputs": [],
   "source": [
    "# initialize empty set\n",
    "tmp_list = [];\n",
    "All_KeyWords = set(tmp_list)\n",
    "\n",
    "#initialize a list of each job id's dictionary\n",
    "job_vector_list = []\n",
    "\n",
    "#for test purpose define finite job example\n",
    "total_jobs = len(jobs)\n",
    "\n",
    "for i in range(total_jobs):\n",
    "    vector = tfidf_vectorizer_vectors[i]\n",
    "    tfdf_2 = pd.DataFrame(vector.T.todense(), index=tfidf_vectorizer.get_feature_names(), columns=[\"tfidf\"])\n",
    "    sorted_tfdf_2 = tfdf_2.sort_values(by=[\"tfidf\"],ascending=False)\n",
    "    valid_tfdf_2 = sorted_tfdf_2[sorted_tfdf_2['tfidf'] > 0]\n",
    "    \n",
    "    #convert pd to dictionary and store in list\n",
    "    dictionary = valid_tfdf_2.T.to_dict('list')\n",
    "    job_vector_list.append(dictionary)\n",
    "    \n",
    "    #convert pd to set\n",
    "    indexNamesArr = valid_tfdf_2.index.values\n",
    "    All_KeyWords = All_KeyWords | set(indexNamesArr)\n"
   ]
  },
  {
   "cell_type": "code",
   "execution_count": 46,
   "metadata": {},
   "outputs": [
    {
     "name": "stdout",
     "output_type": "stream",
     "text": [
      "TFIDF dimension  24563\n",
      "total number of jobs  3915\n"
     ]
    }
   ],
   "source": [
    "print(\"TFIDF dimension \", len(All_KeyWords))\n",
    "print(\"total number of jobs \", len(job_vector_list))"
   ]
  },
  {
   "cell_type": "markdown",
   "metadata": {},
   "source": [
    "\n",
    "\n",
    "\n",
    "\n",
    "## Similarity : Scalar Product\n",
    "### x1 = first recruiter, x2 = second recruiter"
   ]
  },
  {
   "cell_type": "code",
   "execution_count": 47,
   "metadata": {},
   "outputs": [
    {
     "data": {
      "text/plain": [
       "0.1019244238346225"
      ]
     },
     "execution_count": 47,
     "metadata": {},
     "output_type": "execute_result"
    }
   ],
   "source": [
    "def sim(x1, x2):\n",
    "    list2=[] #debug purpose\n",
    "    total_sum=0\n",
    "    for key in job_vector_list[x1]:\n",
    "        if(key in job_vector_list[x2]):\n",
    "            first_tfidf = job_vector_list[x1][key][0]\n",
    "            second_tfidf = job_vector_list[x2][key][0]\n",
    "            list2.append(key) #debug purpose\n",
    "            total_sum = total_sum + first_tfidf * second_tfidf\n",
    "    return total_sum\n",
    "sim(0, 1)"
   ]
  },
  {
   "cell_type": "markdown",
   "metadata": {},
   "source": [
    "## Drop extra column and constrain job"
   ]
  },
  {
   "cell_type": "code",
   "execution_count": 48,
   "metadata": {},
   "outputs": [
    {
     "name": "stdout",
     "output_type": "stream",
     "text": [
      "4286\n",
      "3916\n"
     ]
    }
   ],
   "source": [
    "#Drop extra column and constrain job\n",
    "sample_app_undrop = app[app['JobID']<=  jobs.iloc[total_jobs-1][1] ]\n",
    "sample_app = sample_app_undrop.drop(['Split','Unnamed: 0', 'WindowID', 'ApplicationDate'], axis=1)\n",
    "print(len(sample_app))\n",
    "print(len(sample_app.JobID.unique()))"
   ]
  },
  {
   "cell_type": "markdown",
   "metadata": {},
   "source": [
    "### Split Train and Test Data set for Sample_app"
   ]
  },
  {
   "cell_type": "code",
   "execution_count": 49,
   "metadata": {},
   "outputs": [
    {
     "name": "stdout",
     "output_type": "stream",
     "text": [
      "3429\n",
      "857\n"
     ]
    }
   ],
   "source": [
    "sample_app_copy = sample_app.copy()\n",
    "sample_app_copy = sample_app_copy.sort_values([\"JobID\"], ascending = (True))\n",
    "train_sample_app = sample_app_copy[:int((len(sample_app_copy)+1)*.80)] \n",
    "test_sample_app = sample_app_copy[int(len(sample_app_copy)*.80+1):] \n",
    "print(len(train_sample_app))\n",
    "print(len(test_sample_app))"
   ]
  },
  {
   "cell_type": "markdown",
   "metadata": {},
   "source": [
    "### Build Dictionary that map jobID to jobIndex (both)"
   ]
  },
  {
   "cell_type": "code",
   "execution_count": 50,
   "metadata": {
    "scrolled": true
   },
   "outputs": [],
   "source": [
    "JobID_to_Index = {}\n",
    "Index_to_JobID = {}\n",
    "for index in range(len(jobs)):\n",
    "    if(jobs.iloc[index][1] == 481595):\n",
    "        print(\"find\")\n",
    "    JobID_to_Index[jobs.iloc[index][1]] = index\n",
    "    Index_to_JobID[index] = jobs.iloc[index][1]"
   ]
  },
  {
   "cell_type": "markdown",
   "metadata": {},
   "source": [
    "### Build Dictionary that map userID to userIndex (both)"
   ]
  },
  {
   "cell_type": "code",
   "execution_count": 51,
   "metadata": {},
   "outputs": [],
   "source": [
    "#Pre shape user ID to ID\n",
    "UserID_to_Index = {}\n",
    "Index_to_UserID = {}\n",
    "for index in range(len(user)):\n",
    "    UserID_to_Index[user.iloc[index][1]] = index\n",
    "    Index_to_UserID[index] = user.iloc[index][1]"
   ]
  },
  {
   "cell_type": "markdown",
   "metadata": {},
   "source": [
    "### Build M  "
   ]
  },
  {
   "cell_type": "code",
   "execution_count": 52,
   "metadata": {
    "scrolled": true
   },
   "outputs": [
    {
     "name": "stdout",
     "output_type": "stream",
     "text": [
      "3132\n",
      "746\n"
     ]
    }
   ],
   "source": [
    "##### Adjacent list is used becuase matrix is sparsed avoid wasting space\n",
    "train_job_adj_list={}   #jobID -> userID\n",
    "train_user_adj_list={}  #userID -> jobID\n",
    "for i in range (len(train_sample_app)):\n",
    "    try:\n",
    "        train_job_adj_list[train_sample_app.iloc[i][1]].add(train_sample_app.iloc[i][0])\n",
    "        train_user_adj_list[train_sample_app.iloc[i][0]].add(train_sample_app.iloc[i][1])\n",
    "    except KeyError:\n",
    "        train_job_adj_list[train_sample_app.iloc[i][1]] = {train_sample_app.iloc[i][0]}\n",
    "        train_user_adj_list[train_sample_app.iloc[i][0]] = {train_sample_app.iloc[i][1]}\n",
    "print(len(train_job_adj_list))\n",
    "print(len(train_user_adj_list))"
   ]
  },
  {
   "cell_type": "code",
   "execution_count": 53,
   "metadata": {},
   "outputs": [
    {
     "name": "stdout",
     "output_type": "stream",
     "text": [
      "784\n",
      "376\n"
     ]
    }
   ],
   "source": [
    "##### Adjacent list is used becuase matrix is sparsed avoid wasting space\n",
    "test_job_adj_list={}   #jobID -> userID\n",
    "test_user_adj_list={}  #userID -> jobID\n",
    "for i in range (len(test_sample_app)):\n",
    "    try:\n",
    "        test_job_adj_list[test_sample_app.iloc[i][1]].add(test_sample_app.iloc[i][0])\n",
    "        test_user_adj_list[test_sample_app.iloc[i][0]].add(test_sample_app.iloc[i][1])\n",
    "    except KeyError:\n",
    "        test_job_adj_list[test_sample_app.iloc[i][1]] = {test_sample_app.iloc[i][0]}\n",
    "        test_user_adj_list[test_sample_app.iloc[i][0]] = {test_sample_app.iloc[i][1]}\n",
    "print(len(test_job_adj_list))\n",
    "print(len(test_user_adj_list))"
   ]
  },
  {
   "cell_type": "markdown",
   "metadata": {},
   "source": [
    "### Get Final Matrix M \n",
    "#### x=jobID, y=userID"
   ]
  },
  {
   "cell_type": "code",
   "execution_count": 54,
   "metadata": {},
   "outputs": [],
   "source": [
    "Sim_Matrix=np.zeros(shape=(total_jobs, len(user)))\n",
    "\n",
    "job_index = 0\n",
    "for job_index in range(total_jobs):\n",
    "    for user_index in range(len(user)):\n",
    "        sigma_sum=0\n",
    "        user_apply_job = False\n",
    "        user_ID= Index_to_UserID[user_index]\n",
    "        if(user_ID in train_user_adj_list):\n",
    "            for job_ID in train_user_adj_list[user_ID]:\n",
    "                if(job_ID == 481595):\n",
    "                    continue\n",
    "                if(JobID_to_Index[job_ID]==job_index):\n",
    "                    user_apply_job = True\n",
    "                    break\n",
    "                sigma_sum = sigma_sum + sim(job_index, JobID_to_Index[job_ID]) * 1\n",
    "        if(user_apply_job):\n",
    "             Sim_Matrix[job_index][user_index]= 1\n",
    "        else:\n",
    "            Sim_Matrix[job_index][user_index]= sigma_sum"
   ]
  },
  {
   "cell_type": "markdown",
   "metadata": {},
   "source": [
    "### Experiment on Cutoff"
   ]
  },
  {
   "cell_type": "markdown",
   "metadata": {},
   "source": [
    "### Test Recall = True Positive / (True Positive + False Negative)"
   ]
  },
  {
   "cell_type": "code",
   "execution_count": 55,
   "metadata": {},
   "outputs": [
    {
     "name": "stdout",
     "output_type": "stream",
     "text": [
      "830\n"
     ]
    }
   ],
   "source": [
    "recallList =[]\n",
    "cutOffList=[]\n",
    "for x in np.arange(0, 1.02, 0.02):\n",
    "    cutOffList.append(x)\n",
    "\n",
    "for cutOff in cutOffList:\n",
    "    count=0;\n",
    "    true_positive=0\n",
    "    for jobID in test_job_adj_list:\n",
    "        job_index = JobID_to_Index[jobID]\n",
    "        for userID in test_job_adj_list[jobID]:\n",
    "            user_index = UserID_to_Index[userID]\n",
    "            if Sim_Matrix[job_index][user_index] >= cutOff:\n",
    "                true_positive = true_positive + 1\n",
    "            count = count + 1\n",
    "    accuracy = round(true_positive/count * 100,2)\n",
    "    recallList.append(accuracy)\n",
    "print(count)"
   ]
  },
  {
   "cell_type": "code",
   "execution_count": 56,
   "metadata": {},
   "outputs": [
    {
     "data": {
      "text/plain": [
       "Text(0, 0.5, 'Recall')"
      ]
     },
     "execution_count": 56,
     "metadata": {},
     "output_type": "execute_result"
    },
    {
     "data": {
      "image/png": "[encoded data removed]",
      "text/plain": [
       "<Figure size 432x288 with 1 Axes>"
      ]
     },
     "metadata": {
      "needs_background": "light"
     },
     "output_type": "display_data"
    }
   ],
   "source": [
    "fig, ax = plt.subplots()  # Create a figure containing a single axes.\n",
    "ax.plot(cutOffList, recallList)  # Plot some data on the axes.\n",
    "ax.set_xlabel('CutOff')\n",
    "ax.set_ylabel('Recall')"
   ]
  },
  {
   "cell_type": "code",
   "execution_count": 57,
   "metadata": {},
   "outputs": [
    {
     "name": "stdout",
     "output_type": "stream",
     "text": [
      "minimum JobIndex:  3131\n",
      "minimum userIndex:  1\n"
     ]
    }
   ],
   "source": [
    "##find smallest Index in test_job_adj_list\n",
    "minJobID = 10000000\n",
    "minUserID = 10000000\n",
    "\n",
    "#Build original test Matrix to avoid duplicate finding process\n",
    "test_Matrix_Original=np.zeros(shape=(total_jobs, len(user)))\n",
    "for jobID in test_job_adj_list:\n",
    "    minJobID = min(minJobID, jobID)  ##calculate min JobID at the same time\n",
    "    jobIndex = JobID_to_Index[jobID]\n",
    "    for userID in test_job_adj_list[jobID]:\n",
    "        minUserID = min(minUserID, userID)  #calculate min userID at the same time\n",
    "        userIndex = UserID_to_Index[userID]\n",
    "        test_Matrix_Original[jobIndex][userIndex] = 1\n",
    "\n",
    "startJobIndex = JobID_to_Index[minJobID]\n",
    "startUserIndex = UserID_to_Index[minUserID]\n",
    "\n",
    "print(\"minimum JobIndex: \", startJobIndex)\n",
    "print(\"minimum userIndex: \", startUserIndex)"
   ]
  },
  {
   "cell_type": "code",
   "execution_count": 58,
   "metadata": {},
   "outputs": [
    {
     "name": "stdout",
     "output_type": "stream",
     "text": [
      "[0.11, 0.2, 0.31, 0.5, 0.71, 0.92, 1.21, 1.5, 1.74, 2.06, 2.38, 2.51, 2.73, 3.14, 3.05, 2.99, 3.54, 4.22, 4.21, 4.46, 4.94, 5.88, 7.02, 6.19, 6.41, 5.8, 6.35, 6.67, 6.78, 5.56, 3.77, 4.0, 4.35, 4.44, 4.55, 4.65, 4.65, 4.76, 4.76, 5.13, 5.26, 5.41, 5.41, 5.56, 3.03, 3.03, 3.12, 3.33, 0.0, 0.0, 0]\n"
     ]
    }
   ],
   "source": [
    "precisionList = []\n",
    "for cutOff in cutOffList:\n",
    "    truePositive=0\n",
    "    FalsePositive=0\n",
    "    for i in range (startJobIndex, total_jobs):\n",
    "        for j in range (startUserIndex, len(user)):\n",
    "            if Sim_Matrix[i][j] >= cutOff:\n",
    "                if test_Matrix_Original[i][j] == 1:\n",
    "                    truePositive = truePositive + 1\n",
    "                else:\n",
    "                    FalsePositive = FalsePositive + 1\n",
    "    if(truePositive + FalsePositive)==0:\n",
    "        precision = 0\n",
    "    else:\n",
    "        precision = round(truePositive/(truePositive + FalsePositive) * 100,2)\n",
    "    precisionList.append(precision)\n",
    "\n",
    "print(precisionList)"
   ]
  },
  {
   "cell_type": "code",
   "execution_count": 59,
   "metadata": {},
   "outputs": [
    {
     "data": {
      "text/plain": [
       "Text(0, 0.5, 'precision')"
      ]
     },
     "execution_count": 59,
     "metadata": {},
     "output_type": "execute_result"
    },
    {
     "data": {
      "image/png": "[encoded data removed]",
      "text/plain": [
       "<Figure size 432x288 with 1 Axes>"
      ]
     },
     "metadata": {
      "needs_background": "light"
     },
     "output_type": "display_data"
    }
   ],
   "source": [
    "fig, ax = plt.subplots()  # Create a figure containing a single axes.\n",
    "ax.plot(cutOffList, precisionList)  # Plot some data on the axes.\n",
    "ax.set_xlabel('CutOff')\n",
    "ax.set_ylabel('precision')"
   ]
  },
  {
   "cell_type": "code",
   "execution_count": 60,
   "metadata": {},
   "outputs": [
    {
     "data": {
      "image/png": "[encoded data removed]",
      "text/plain": [
       "<Figure size 432x288 with 1 Axes>"
      ]
     },
     "metadata": {
      "needs_background": "light"
     },
     "output_type": "display_data"
    }
   ],
   "source": [
    "precisionList2 = map(lambda x: x*10, precisionList)\n",
    "precisionList3 = list(precisionList2)# plotting the line 1 points \n",
    "plt.plot(cutOffList, recallList, label = \"recall\")\n",
    "plt.plot(cutOffList, precisionList3, label = \"precision\")\n",
    "plt.xlabel('CutOff')\n",
    "plt.ylabel('Accuracy or Precision')\n",
    "plt.title('Accuracy and Precision List')\n",
    "plt.legend()\n",
    "plt.show()"
   ]
  },
  {
   "cell_type": "code",
   "execution_count": null,
   "metadata": {},
   "outputs": [],
   "source": []
  }
 ],
 "metadata": {
  "kernelspec": {
   "display_name": "Python 3",
   "language": "python",
   "name": "python3"
  },
  "language_info": {
   "codemirror_mode": {
    "name": "ipython",
    "version": 3
   },
   "file_extension": ".py",
   "mimetype": "text/x-python",
   "name": "python",
   "nbconvert_exporter": "python",
   "pygments_lexer": "ipython3",
   "version": "3.7.4"
  }
 },
 "nbformat": 4,
 "nbformat_minor": 2
}
