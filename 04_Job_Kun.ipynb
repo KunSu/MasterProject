{
 "cells": [
  {
   "cell_type": "code",
   "execution_count": 1,
   "metadata": {},
   "outputs": [],
   "source": [
    "# reference: https://www.kaggle.com/tanersekmen/google-job-title\n",
    "\n",
    "# Load libraries\n",
    "import matplotlib.pyplot as plt\n",
    "import numpy as np\n",
    "import pandas as pd \n",
    "\n",
    "from string import punctuation\n",
    "from cytoolz import isdistinct, topk\n",
    "from operator import itemgetter\n",
    "from itertools import product\n",
    "from collections import Counter\n",
    "\n",
    "import nltk\n",
    "from nltk import wordpunct_tokenize\n",
    "from nltk.corpus import stopwords\n",
    "from nltk import word_tokenize\n",
    "\n",
    "from sklearn.feature_extraction.text import TfidfVectorizer \n",
    "\n",
    "stop_words = stopwords.words('english')\n",
    "stops = set(stop_words)\n",
    "stops.update(set(punctuation))"
   ]
  },
  {
   "cell_type": "code",
   "execution_count": 2,
   "metadata": {},
   "outputs": [
    {
     "data": {
      "text/html": [
       "<div>\n",
       "<style scoped>\n",
       "    .dataframe tbody tr th:only-of-type {\n",
       "        vertical-align: middle;\n",
       "    }\n",
       "\n",
       "    .dataframe tbody tr th {\n",
       "        vertical-align: top;\n",
       "    }\n",
       "\n",
       "    .dataframe thead th {\n",
       "        text-align: right;\n",
       "    }\n",
       "</style>\n",
       "<table border=\"1\" class=\"dataframe\">\n",
       "  <thead>\n",
       "    <tr style=\"text-align: right;\">\n",
       "      <th></th>\n",
       "      <th>Unnamed: 0</th>\n",
       "      <th>JobID</th>\n",
       "      <th>Title</th>\n",
       "      <th>Description</th>\n",
       "      <th>Requirements</th>\n",
       "      <th>State</th>\n",
       "      <th>City</th>\n",
       "    </tr>\n",
       "  </thead>\n",
       "  <tbody>\n",
       "    <tr>\n",
       "      <th>0</th>\n",
       "      <td>0</td>\n",
       "      <td>1</td>\n",
       "      <td>Security Engineer/Technical Lead</td>\n",
       "      <td>Security Clearance Required: Top Secret Job Nu...</td>\n",
       "      <td>SKILL SETNetwork Security tools:Webdefend Web ...</td>\n",
       "      <td>DC</td>\n",
       "      <td>Washington</td>\n",
       "    </tr>\n",
       "    <tr>\n",
       "      <th>1</th>\n",
       "      <td>1</td>\n",
       "      <td>4</td>\n",
       "      <td>SAP Business Analyst / WM</td>\n",
       "      <td>NO Corp. to Corp resumesare being considered f...</td>\n",
       "      <td>WHAT YOU NEED: Four year college degreeMinimum...</td>\n",
       "      <td>NC</td>\n",
       "      <td>Charlotte</td>\n",
       "    </tr>\n",
       "    <tr>\n",
       "      <th>2</th>\n",
       "      <td>2</td>\n",
       "      <td>7</td>\n",
       "      <td>P/T HUMAN RESOURCES ASSISTANT</td>\n",
       "      <td>P/T HUMAN RESOURCES ASSISTANT   ——  1-2 y...</td>\n",
       "      <td>Please refer to the Job Description to view th...</td>\n",
       "      <td>FL</td>\n",
       "      <td>Winter Park</td>\n",
       "    </tr>\n",
       "    <tr>\n",
       "      <th>3</th>\n",
       "      <td>3</td>\n",
       "      <td>8</td>\n",
       "      <td>Route Delivery Drivers</td>\n",
       "      <td>CITY BEVERAGES Come to work for the best in th...</td>\n",
       "      <td>Please refer to the Job Description to view th...</td>\n",
       "      <td>FL</td>\n",
       "      <td>Orlando</td>\n",
       "    </tr>\n",
       "    <tr>\n",
       "      <th>4</th>\n",
       "      <td>4</td>\n",
       "      <td>9</td>\n",
       "      <td>Housekeeping</td>\n",
       "      <td>I make  sure every part of their day is magica...</td>\n",
       "      <td>Please refer to the Job Description to view th...</td>\n",
       "      <td>FL</td>\n",
       "      <td>Orlando</td>\n",
       "    </tr>\n",
       "    <tr>\n",
       "      <th>...</th>\n",
       "      <td>...</td>\n",
       "      <td>...</td>\n",
       "      <td>...</td>\n",
       "      <td>...</td>\n",
       "      <td>...</td>\n",
       "      <td>...</td>\n",
       "      <td>...</td>\n",
       "    </tr>\n",
       "    <tr>\n",
       "      <th>65563</th>\n",
       "      <td>65563</td>\n",
       "      <td>492807</td>\n",
       "      <td>Sr Financial Analyst</td>\n",
       "      <td>Classification:   Financial Business Analyst C...</td>\n",
       "      <td>-5-6 years related experience.•Bachelors in Ac...</td>\n",
       "      <td>CA</td>\n",
       "      <td>San Jose</td>\n",
       "    </tr>\n",
       "    <tr>\n",
       "      <th>65564</th>\n",
       "      <td>65564</td>\n",
       "      <td>493018</td>\n",
       "      <td>Site Manager - New visions Teacher Effectivene...</td>\n",
       "      <td>Site Manager, New Visions Teacher Effectiven...</td>\n",
       "      <td>Qualifications We are seeking candidates who b...</td>\n",
       "      <td>NY</td>\n",
       "      <td>Brooklyn</td>\n",
       "    </tr>\n",
       "    <tr>\n",
       "      <th>65565</th>\n",
       "      <td>65565</td>\n",
       "      <td>493028</td>\n",
       "      <td>Volkswagen Internet Sales Professional</td>\n",
       "      <td>Description: Automobile SalespersonAutomobile ...</td>\n",
       "      <td>Automobile Salesperson Job Duties:    Understa...</td>\n",
       "      <td>GA</td>\n",
       "      <td>Snellville</td>\n",
       "    </tr>\n",
       "    <tr>\n",
       "      <th>65566</th>\n",
       "      <td>65566</td>\n",
       "      <td>493055</td>\n",
       "      <td>Sr. Communications Specialist</td>\n",
       "      <td>About Sauer-Danfoss Sauer-Danfoss Inc. is a wo...</td>\n",
       "      <td>Qualifications:       Degree in Communications...</td>\n",
       "      <td>MN</td>\n",
       "      <td>Minneapolis</td>\n",
       "    </tr>\n",
       "    <tr>\n",
       "      <th>65567</th>\n",
       "      <td>65567</td>\n",
       "      <td>493066</td>\n",
       "      <td>Facilities Coordinator</td>\n",
       "      <td>Responsibilities:The Facilities Coordinator pr...</td>\n",
       "      <td>REQUIRED KNOWLEDGE AND EXPERIENCE: Please desc...</td>\n",
       "      <td>FL</td>\n",
       "      <td>Orlando</td>\n",
       "    </tr>\n",
       "  </tbody>\n",
       "</table>\n",
       "<p>65568 rows × 7 columns</p>\n",
       "</div>"
      ],
      "text/plain": [
       "       Unnamed: 0   JobID                                              Title  \\\n",
       "0               0       1                   Security Engineer/Technical Lead   \n",
       "1               1       4                          SAP Business Analyst / WM   \n",
       "2               2       7                      P/T HUMAN RESOURCES ASSISTANT   \n",
       "3               3       8                             Route Delivery Drivers   \n",
       "4               4       9                                       Housekeeping   \n",
       "...           ...     ...                                                ...   \n",
       "65563       65563  492807                               Sr Financial Analyst   \n",
       "65564       65564  493018  Site Manager - New visions Teacher Effectivene...   \n",
       "65565       65565  493028             Volkswagen Internet Sales Professional   \n",
       "65566       65566  493055                      Sr. Communications Specialist   \n",
       "65567       65567  493066                             Facilities Coordinator   \n",
       "\n",
       "                                             Description  \\\n",
       "0      Security Clearance Required: Top Secret Job Nu...   \n",
       "1      NO Corp. to Corp resumesare being considered f...   \n",
       "2           P/T HUMAN RESOURCES ASSISTANT   ——  1-2 y...   \n",
       "3      CITY BEVERAGES Come to work for the best in th...   \n",
       "4      I make  sure every part of their day is magica...   \n",
       "...                                                  ...   \n",
       "65563  Classification:   Financial Business Analyst C...   \n",
       "65564    Site Manager, New Visions Teacher Effectiven...   \n",
       "65565  Description: Automobile SalespersonAutomobile ...   \n",
       "65566  About Sauer-Danfoss Sauer-Danfoss Inc. is a wo...   \n",
       "65567  Responsibilities:The Facilities Coordinator pr...   \n",
       "\n",
       "                                            Requirements State         City  \n",
       "0      SKILL SETNetwork Security tools:Webdefend Web ...    DC   Washington  \n",
       "1      WHAT YOU NEED: Four year college degreeMinimum...    NC    Charlotte  \n",
       "2      Please refer to the Job Description to view th...    FL  Winter Park  \n",
       "3      Please refer to the Job Description to view th...    FL      Orlando  \n",
       "4      Please refer to the Job Description to view th...    FL      Orlando  \n",
       "...                                                  ...   ...          ...  \n",
       "65563  -5-6 years related experience.•Bachelors in Ac...    CA     San Jose  \n",
       "65564  Qualifications We are seeking candidates who b...    NY     Brooklyn  \n",
       "65565  Automobile Salesperson Job Duties:    Understa...    GA   Snellville  \n",
       "65566  Qualifications:       Degree in Communications...    MN  Minneapolis  \n",
       "65567  REQUIRED KNOWLEDGE AND EXPERIENCE: Please desc...    FL      Orlando  \n",
       "\n",
       "[65568 rows x 7 columns]"
      ]
     },
     "execution_count": 2,
     "metadata": {},
     "output_type": "execute_result"
    }
   ],
   "source": [
    "# local variables\n",
    "sample_data_path = 'data/sample_data/'\n",
    "\n",
    "# jobs data\n",
    "jobs = pd.read_csv(sample_data_path + 'jobs_sample_cleared.csv')\n",
    "jobs"
   ]
  },
  {
   "cell_type": "markdown",
   "metadata": {},
   "source": [
    "### Basic Exploratory Data Analysis (EDA)"
   ]
  },
  {
   "cell_type": "code",
   "execution_count": 3,
   "metadata": {},
   "outputs": [
    {
     "data": {
      "text/html": [
       "<div>\n",
       "<style scoped>\n",
       "    .dataframe tbody tr th:only-of-type {\n",
       "        vertical-align: middle;\n",
       "    }\n",
       "\n",
       "    .dataframe tbody tr th {\n",
       "        vertical-align: top;\n",
       "    }\n",
       "\n",
       "    .dataframe thead th {\n",
       "        text-align: right;\n",
       "    }\n",
       "</style>\n",
       "<table border=\"1\" class=\"dataframe\">\n",
       "  <thead>\n",
       "    <tr style=\"text-align: right;\">\n",
       "      <th></th>\n",
       "      <th>index</th>\n",
       "      <th>JobID</th>\n",
       "      <th>Title</th>\n",
       "      <th>Description</th>\n",
       "      <th>Requirements</th>\n",
       "      <th>State</th>\n",
       "      <th>City</th>\n",
       "    </tr>\n",
       "  </thead>\n",
       "  <tbody>\n",
       "    <tr>\n",
       "      <th>0</th>\n",
       "      <td>0</td>\n",
       "      <td>1</td>\n",
       "      <td>Security Engineer/Technical Lead</td>\n",
       "      <td>Security Clearance Required: Top Secret Job Nu...</td>\n",
       "      <td>SKILL SETNetwork Security tools:Webdefend Web ...</td>\n",
       "      <td>DC</td>\n",
       "      <td>Washington</td>\n",
       "    </tr>\n",
       "    <tr>\n",
       "      <th>1</th>\n",
       "      <td>1</td>\n",
       "      <td>4</td>\n",
       "      <td>SAP Business Analyst / WM</td>\n",
       "      <td>NO Corp. to Corp resumesare being considered f...</td>\n",
       "      <td>WHAT YOU NEED: Four year college degreeMinimum...</td>\n",
       "      <td>NC</td>\n",
       "      <td>Charlotte</td>\n",
       "    </tr>\n",
       "    <tr>\n",
       "      <th>2</th>\n",
       "      <td>2</td>\n",
       "      <td>7</td>\n",
       "      <td>P/T HUMAN RESOURCES ASSISTANT</td>\n",
       "      <td>P/T HUMAN RESOURCES ASSISTANT   ——  1-2 y...</td>\n",
       "      <td>Please refer to the Job Description to view th...</td>\n",
       "      <td>FL</td>\n",
       "      <td>Winter Park</td>\n",
       "    </tr>\n",
       "    <tr>\n",
       "      <th>3</th>\n",
       "      <td>3</td>\n",
       "      <td>8</td>\n",
       "      <td>Route Delivery Drivers</td>\n",
       "      <td>CITY BEVERAGES Come to work for the best in th...</td>\n",
       "      <td>Please refer to the Job Description to view th...</td>\n",
       "      <td>FL</td>\n",
       "      <td>Orlando</td>\n",
       "    </tr>\n",
       "    <tr>\n",
       "      <th>4</th>\n",
       "      <td>4</td>\n",
       "      <td>9</td>\n",
       "      <td>Housekeeping</td>\n",
       "      <td>I make  sure every part of their day is magica...</td>\n",
       "      <td>Please refer to the Job Description to view th...</td>\n",
       "      <td>FL</td>\n",
       "      <td>Orlando</td>\n",
       "    </tr>\n",
       "    <tr>\n",
       "      <th>...</th>\n",
       "      <td>...</td>\n",
       "      <td>...</td>\n",
       "      <td>...</td>\n",
       "      <td>...</td>\n",
       "      <td>...</td>\n",
       "      <td>...</td>\n",
       "      <td>...</td>\n",
       "    </tr>\n",
       "    <tr>\n",
       "      <th>65563</th>\n",
       "      <td>65563</td>\n",
       "      <td>492807</td>\n",
       "      <td>Sr Financial Analyst</td>\n",
       "      <td>Classification:   Financial Business Analyst C...</td>\n",
       "      <td>-5-6 years related experience.•Bachelors in Ac...</td>\n",
       "      <td>CA</td>\n",
       "      <td>San Jose</td>\n",
       "    </tr>\n",
       "    <tr>\n",
       "      <th>65564</th>\n",
       "      <td>65564</td>\n",
       "      <td>493018</td>\n",
       "      <td>Site Manager - New visions Teacher Effectivene...</td>\n",
       "      <td>Site Manager, New Visions Teacher Effectiven...</td>\n",
       "      <td>Qualifications We are seeking candidates who b...</td>\n",
       "      <td>NY</td>\n",
       "      <td>Brooklyn</td>\n",
       "    </tr>\n",
       "    <tr>\n",
       "      <th>65565</th>\n",
       "      <td>65565</td>\n",
       "      <td>493028</td>\n",
       "      <td>Volkswagen Internet Sales Professional</td>\n",
       "      <td>Description: Automobile SalespersonAutomobile ...</td>\n",
       "      <td>Automobile Salesperson Job Duties:    Understa...</td>\n",
       "      <td>GA</td>\n",
       "      <td>Snellville</td>\n",
       "    </tr>\n",
       "    <tr>\n",
       "      <th>65566</th>\n",
       "      <td>65566</td>\n",
       "      <td>493055</td>\n",
       "      <td>Sr. Communications Specialist</td>\n",
       "      <td>About Sauer-Danfoss Sauer-Danfoss Inc. is a wo...</td>\n",
       "      <td>Qualifications:       Degree in Communications...</td>\n",
       "      <td>MN</td>\n",
       "      <td>Minneapolis</td>\n",
       "    </tr>\n",
       "    <tr>\n",
       "      <th>65567</th>\n",
       "      <td>65567</td>\n",
       "      <td>493066</td>\n",
       "      <td>Facilities Coordinator</td>\n",
       "      <td>Responsibilities:The Facilities Coordinator pr...</td>\n",
       "      <td>REQUIRED KNOWLEDGE AND EXPERIENCE: Please desc...</td>\n",
       "      <td>FL</td>\n",
       "      <td>Orlando</td>\n",
       "    </tr>\n",
       "  </tbody>\n",
       "</table>\n",
       "<p>65568 rows × 7 columns</p>\n",
       "</div>"
      ],
      "text/plain": [
       "       index   JobID                                              Title  \\\n",
       "0          0       1                   Security Engineer/Technical Lead   \n",
       "1          1       4                          SAP Business Analyst / WM   \n",
       "2          2       7                      P/T HUMAN RESOURCES ASSISTANT   \n",
       "3          3       8                             Route Delivery Drivers   \n",
       "4          4       9                                       Housekeeping   \n",
       "...      ...     ...                                                ...   \n",
       "65563  65563  492807                               Sr Financial Analyst   \n",
       "65564  65564  493018  Site Manager - New visions Teacher Effectivene...   \n",
       "65565  65565  493028             Volkswagen Internet Sales Professional   \n",
       "65566  65566  493055                      Sr. Communications Specialist   \n",
       "65567  65567  493066                             Facilities Coordinator   \n",
       "\n",
       "                                             Description  \\\n",
       "0      Security Clearance Required: Top Secret Job Nu...   \n",
       "1      NO Corp. to Corp resumesare being considered f...   \n",
       "2           P/T HUMAN RESOURCES ASSISTANT   ——  1-2 y...   \n",
       "3      CITY BEVERAGES Come to work for the best in th...   \n",
       "4      I make  sure every part of their day is magica...   \n",
       "...                                                  ...   \n",
       "65563  Classification:   Financial Business Analyst C...   \n",
       "65564    Site Manager, New Visions Teacher Effectiven...   \n",
       "65565  Description: Automobile SalespersonAutomobile ...   \n",
       "65566  About Sauer-Danfoss Sauer-Danfoss Inc. is a wo...   \n",
       "65567  Responsibilities:The Facilities Coordinator pr...   \n",
       "\n",
       "                                            Requirements State         City  \n",
       "0      SKILL SETNetwork Security tools:Webdefend Web ...    DC   Washington  \n",
       "1      WHAT YOU NEED: Four year college degreeMinimum...    NC    Charlotte  \n",
       "2      Please refer to the Job Description to view th...    FL  Winter Park  \n",
       "3      Please refer to the Job Description to view th...    FL      Orlando  \n",
       "4      Please refer to the Job Description to view th...    FL      Orlando  \n",
       "...                                                  ...   ...          ...  \n",
       "65563  -5-6 years related experience.•Bachelors in Ac...    CA     San Jose  \n",
       "65564  Qualifications We are seeking candidates who b...    NY     Brooklyn  \n",
       "65565  Automobile Salesperson Job Duties:    Understa...    GA   Snellville  \n",
       "65566  Qualifications:       Degree in Communications...    MN  Minneapolis  \n",
       "65567  REQUIRED KNOWLEDGE AND EXPERIENCE: Please desc...    FL      Orlando  \n",
       "\n",
       "[65568 rows x 7 columns]"
      ]
     },
     "execution_count": 3,
     "metadata": {},
     "output_type": "execute_result"
    }
   ],
   "source": [
    "jobs = jobs.rename(columns={'Unnamed: 0':'index'})\n",
    "jobs"
   ]
  },
  {
   "cell_type": "code",
   "execution_count": 4,
   "metadata": {},
   "outputs": [
    {
     "data": {
      "text/plain": [
       "index            int64\n",
       "JobID            int64\n",
       "Title           object\n",
       "Description     object\n",
       "Requirements    object\n",
       "State           object\n",
       "City            object\n",
       "dtype: object"
      ]
     },
     "execution_count": 4,
     "metadata": {},
     "output_type": "execute_result"
    }
   ],
   "source": [
    "jobs.dtypes"
   ]
  },
  {
   "cell_type": "code",
   "execution_count": 5,
   "metadata": {},
   "outputs": [
    {
     "data": {
      "text/plain": [
       "index           False\n",
       "JobID           False\n",
       "Title           False\n",
       "Description      True\n",
       "Requirements     True\n",
       "State           False\n",
       "City            False\n",
       "dtype: bool"
      ]
     },
     "execution_count": 5,
     "metadata": {},
     "output_type": "execute_result"
    }
   ],
   "source": [
    "# Checking the null values in the dataset\n",
    "jobs.isnull().any()"
   ]
  },
  {
   "cell_type": "code",
   "execution_count": 6,
   "metadata": {},
   "outputs": [
    {
     "data": {
      "text/plain": [
       "index              0\n",
       "JobID              0\n",
       "Title              0\n",
       "Description        9\n",
       "Requirements    8616\n",
       "State              0\n",
       "City               0\n",
       "dtype: int64"
      ]
     },
     "execution_count": 6,
     "metadata": {},
     "output_type": "execute_result"
    }
   ],
   "source": [
    "# Checking if there is any NaN\n",
    "jobs.isnull().sum()"
   ]
  },
  {
   "cell_type": "code",
   "execution_count": 7,
   "metadata": {},
   "outputs": [
    {
     "name": "stdout",
     "output_type": "stream",
     "text": [
      "(65568, 7)\n"
     ]
    }
   ],
   "source": [
    "# Calculates the number of rows and columns\n",
    "print(jobs.shape)"
   ]
  },
  {
   "cell_type": "markdown",
   "metadata": {},
   "source": [
    "### Visualize Data"
   ]
  },
  {
   "cell_type": "code",
   "execution_count": 8,
   "metadata": {},
   "outputs": [
    {
     "data": {
      "text/plain": [
       "Own Your Own Franchise!                                      379\n",
       "Account Representative                                       303\n",
       "Administrative Assistant                                     276\n",
       "Customer Service Representative                              274\n",
       "Sales / Franchise                                            213\n",
       "Customer Service - Sales Representative - Part Time Work     210\n",
       "Earn $50+ A Week, Part Time: Market Research: All Qualify    202\n",
       "Mobile Tool Sales / Franchise Distributor                    198\n",
       "Retail Wireless Sales Consultant                             196\n",
       "Jani-King Franchise Business Opportunity                     192\n",
       "Sales Representative                                         182\n",
       "Project Manager                                              176\n",
       "Outside Sales Representative                                 172\n",
       "Retail Sales Associate                                       164\n",
       "Staff Accountant                                             162\n",
       "Senior Accountant                                            144\n",
       "Management - Business Development - Operations               140\n",
       "Sales Management Trainee                                     132\n",
       "Inside Sales Representative                                  124\n",
       "Business Analyst                                             124\n",
       "Name: Title, dtype: int64"
      ]
     },
     "execution_count": 8,
     "metadata": {},
     "output_type": "execute_result"
    }
   ],
   "source": [
    "jobs['Title'].value_counts().head(20)"
   ]
  },
  {
   "cell_type": "code",
   "execution_count": 9,
   "metadata": {},
   "outputs": [
    {
     "data": {
      "text/plain": [
       "<matplotlib.axes._subplots.AxesSubplot at 0x11b48db38>"
      ]
     },
     "execution_count": 9,
     "metadata": {},
     "output_type": "execute_result"
    },
    {
     "data": {
      "image/png": "[encoded data removed]",
      "text/plain": [
       "<Figure size 432x288 with 1 Axes>"
      ]
     },
     "metadata": {
      "needs_background": "light"
     },
     "output_type": "display_data"
    }
   ],
   "source": [
    "plt.title('Top 10 Job Title')\n",
    "top_location = jobs['Title'].value_counts().sort_values(ascending=False).head(10)\n",
    "top_location.plot(kind='bar')"
   ]
  },
  {
   "cell_type": "code",
   "execution_count": 10,
   "metadata": {},
   "outputs": [
    {
     "data": {
      "text/plain": [
       "<matplotlib.axes._subplots.AxesSubplot at 0x11dd015c0>"
      ]
     },
     "execution_count": 10,
     "metadata": {},
     "output_type": "execute_result"
    },
    {
     "data": {
      "image/png": "[encoded data removed]",
      "text/plain": [
       "<Figure size 432x288 with 1 Axes>"
      ]
     },
     "metadata": {
      "needs_background": "light"
     },
     "output_type": "display_data"
    }
   ],
   "source": [
    "plt.title('Top 10 State')\n",
    "top_location = jobs['State'].value_counts().sort_values(ascending=False).head(10)\n",
    "top_location.plot(kind='bar')"
   ]
  },
  {
   "cell_type": "code",
   "execution_count": 11,
   "metadata": {},
   "outputs": [
    {
     "data": {
      "text/plain": [
       "<matplotlib.axes._subplots.AxesSubplot at 0x11ddd8438>"
      ]
     },
     "execution_count": 11,
     "metadata": {},
     "output_type": "execute_result"
    },
    {
     "data": {
      "image/png": "[encoded data removed]",
      "text/plain": [
       "<Figure size 432x288 with 1 Axes>"
      ]
     },
     "metadata": {
      "needs_background": "light"
     },
     "output_type": "display_data"
    }
   ],
   "source": [
    "plt.title('Top 10 City')\n",
    "top_location = jobs['City'].value_counts().sort_values(ascending=False).head(10)\n",
    "top_location.plot(kind='bar')"
   ]
  },
  {
   "cell_type": "markdown",
   "metadata": {},
   "source": [
    "## Data Preprocessing\n",
    "### Droping NA"
   ]
  },
  {
   "cell_type": "code",
   "execution_count": 12,
   "metadata": {},
   "outputs": [
    {
     "data": {
      "text/plain": [
       "index           0\n",
       "JobID           0\n",
       "Title           0\n",
       "Description     0\n",
       "Requirements    0\n",
       "State           0\n",
       "City            0\n",
       "dtype: int64"
      ]
     },
     "execution_count": 12,
     "metadata": {},
     "output_type": "execute_result"
    }
   ],
   "source": [
    "jobs = jobs.dropna(how='any',axis='rows')\n",
    "jobs.isnull().sum()"
   ]
  },
  {
   "cell_type": "code",
   "execution_count": 13,
   "metadata": {},
   "outputs": [
    {
     "data": {
      "text/plain": [
       "0    SKILL SETNetwork Security tools:Webdefend Web ...\n",
       "1    WHAT YOU NEED: Four year college degreeMinimum...\n",
       "2    Please refer to the Job Description to view th...\n",
       "3    Please refer to the Job Description to view th...\n",
       "4    Please refer to the Job Description to view th...\n",
       "5    Please refer to the Job Description to view th...\n",
       "6    Please refer to the Job Description to view th...\n",
       "7    Please refer to the Job Description to view th...\n",
       "8    Please refer to the Job Description to view th...\n",
       "9    Please refer to the Job Description to view th...\n",
       "Name: Requirements, dtype: object"
      ]
     },
     "execution_count": 13,
     "metadata": {},
     "output_type": "execute_result"
    }
   ],
   "source": [
    "jobs['Requirements'].head(10)"
   ]
  },
  {
   "cell_type": "markdown",
   "metadata": {},
   "source": [
    "### Removing outlines"
   ]
  },
  {
   "cell_type": "code",
   "execution_count": 14,
   "metadata": {},
   "outputs": [
    {
     "data": {
      "text/plain": [
       "{'Please refer to the Job Description to view the requirements for this job',\n",
       " 'See above job description.',\n",
       " 'See job description.'}"
      ]
     },
     "execution_count": 14,
     "metadata": {},
     "output_type": "execute_result"
    }
   ],
   "source": [
    "filtered_set = set()\n",
    "filtered_set.add('Please refer to the Job Description to view the requirements for this job')\n",
    "filtered_set.add('See above job description.')\n",
    "filtered_set.add('See job description.')\n",
    "filtered_set"
   ]
  },
  {
   "cell_type": "code",
   "execution_count": 15,
   "metadata": {},
   "outputs": [
    {
     "name": "stdout",
     "output_type": "stream",
     "text": [
      "Data size before removing outlines:  56945\n",
      "Data size after removing outlines:  54077\n"
     ]
    },
    {
     "name": "stderr",
     "output_type": "stream",
     "text": [
      "//anaconda3/lib/python3.7/site-packages/pandas/core/frame.py:3997: SettingWithCopyWarning: \n",
      "A value is trying to be set on a copy of a slice from a DataFrame\n",
      "\n",
      "See the caveats in the documentation: https://pandas.pydata.org/pandas-docs/stable/user_guide/indexing.html#returning-a-view-versus-a-copy\n",
      "  errors=errors,\n"
     ]
    }
   ],
   "source": [
    "# Drop outlines\n",
    "print(\"Data size before removing outlines: \", len(jobs))\n",
    "indexNames = []\n",
    "for key in jobs['Requirements'].keys():\n",
    "    if jobs['Requirements'][key] in filtered_set:\n",
    "        indexNames.append(key)\n",
    "jobs.drop(indexNames , inplace=True)\n",
    "print(\"Data size after removing outlines: \", len(jobs))"
   ]
  },
  {
   "cell_type": "markdown",
   "metadata": {},
   "source": [
    "### Standardized Job Title "
   ]
  },
  {
   "cell_type": "code",
   "execution_count": 16,
   "metadata": {},
   "outputs": [],
   "source": [
    "# Reference: https://www.kaggle.com/estasney/exploring-job-titles-node2vec/notebook\n",
    "def int_to_roman(x):\n",
    "    \"\"\"\n",
    "    Normalizing titles like software engineer 3\n",
    "    \n",
    "    Also filters out numbers that are not likely part of a seniority description, i.e. 2000 \n",
    "    \"\"\"\n",
    "    \n",
    "    if not x.isnumeric():\n",
    "        return x\n",
    "    x = int(x)\n",
    "    ints = (1000, 900,  500, 400, 100,  90, 50,  40, 10,  9,   5,  4,   1)\n",
    "    nums = ('M',  'CM', 'D', 'CD','C', 'XC','L','XL','X','IX','V','IV','I')\n",
    "    result = []\n",
    "    for i in range(len(ints)):\n",
    "        count = int(x / ints[i])\n",
    "        result.append(nums[i] * count)\n",
    "        x -= ints[i] * count\n",
    "    result = ''.join(result).lower()\n",
    "    if any([n in result for n in ['M', 'C', 'D', 'X', 'L']]):\n",
    "        return \"\"\n",
    "    return ''.join(result).lower()"
   ]
  },
  {
   "cell_type": "code",
   "execution_count": 17,
   "metadata": {},
   "outputs": [],
   "source": [
    "def tokenize(x:str):\n",
    "    return wordpunct_tokenize(x)\n",
    "\n",
    "def lowercase(x:list):\n",
    "    return [token.lower() for token in x]\n",
    "\n",
    "def remove_stopwords(x:list, stopwords=stops):\n",
    "    return [token for token in x if token not in stopwords]\n",
    "\n",
    "def is_truthy(x):\n",
    "    if x:\n",
    "        return True\n",
    "    return False\n",
    "\n",
    "def preprocess_title(x:str):\n",
    "    if pd.isna(x) or x == \"\":\n",
    "        return []\n",
    "    tokens = tokenize(x)\n",
    "    tokens = lowercase(tokens)\n",
    "    tokens = remove_stopwords(tokens)\n",
    "    if not tokens:\n",
    "        return []\n",
    "    tokens = [int_to_roman(token) for token in tokens]\n",
    "    tokens = list(filter(is_truthy, tokens))\n",
    "    return tokens"
   ]
  },
  {
   "cell_type": "code",
   "execution_count": 18,
   "metadata": {},
   "outputs": [],
   "source": [
    "# Get title counts\n",
    "df = jobs['Title']\n",
    "\n",
    "title_counts = Counter(df.apply(lambda x: \" \".join(preprocess_title(x))).values)\n",
    "del title_counts['']"
   ]
  },
  {
   "cell_type": "code",
   "execution_count": 19,
   "metadata": {},
   "outputs": [],
   "source": [
    "def get_gram_counts(tokens, best_grams):\n",
    "    results = [] \n",
    "    seen = set()\n",
    "    if not best_grams:\n",
    "        gram_product = product(tokens, repeat=2)\n",
    "    else:\n",
    "        gram_product = product(tokens, best_grams)\n",
    "    for title_grams in gram_product:\n",
    "        if not isdistinct(title_grams):\n",
    "            continue\n",
    "        title = \" \".join(title_grams)\n",
    "        if title in seen:\n",
    "            continue\n",
    "        else:\n",
    "            seen.add(title)\n",
    "        count = title_counts.get(title, 0)\n",
    "        results.append((title, count))\n",
    "    return sorted(results, key=itemgetter(1), reverse=True)"
   ]
  },
  {
   "cell_type": "code",
   "execution_count": 20,
   "metadata": {},
   "outputs": [],
   "source": [
    "def optimize_title(x:str, topn=3, title_counts=title_counts):\n",
    "    tokens = preprocess_title(x)\n",
    "    if not tokens:\n",
    "        return x\n",
    "    if len(tokens)==1:\n",
    "        return tokens[0]\n",
    "    \n",
    "    starting_score = title_counts.get(x, 1)\n",
    "    best_ngrams = [(token, title_counts.get(token, 0)) for token in tokens]\n",
    "    gram_counter = 2\n",
    "    while gram_counter <= len(tokens): # Continue chaining tokens to get the highest score\n",
    "        gram_counts = get_gram_counts(tokens, [token for token, score in best_ngrams])\n",
    "        best_ngrams.extend(gram_counts)\n",
    "        best_ngrams = list(topk(topn, best_ngrams, key=itemgetter(1)))\n",
    "        if not any([g in best_ngrams for g in gram_counts]):  # The most recent get_gram_counts did not 'make the cut'\n",
    "            best_ngram_found = topk(1, best_ngrams, key=itemgetter(1))[0]\n",
    "            best_ngram, best_ngram_score = best_ngram_found\n",
    "            if best_ngram_score > starting_score:\n",
    "                return best_ngram\n",
    "            else:\n",
    "                return x\n",
    "        gram_counter += 1\n",
    "    return best_ngrams[0][0]"
   ]
  },
  {
   "cell_type": "markdown",
   "metadata": {},
   "source": [
    "### Sampling for standardized Job Title"
   ]
  },
  {
   "cell_type": "code",
   "execution_count": 21,
   "metadata": {},
   "outputs": [
    {
     "name": "stdout",
     "output_type": "stream",
     "text": [
      "security engineer technical lead, Count: 1  =======> engineer, Count: 11\n",
      "sap business analyst wm, Count: 1  =======> business analyst, Count: 120\n",
      "owner operators fleet owners, Count: 1  =======> owner operators fleet owners, Count: 1\n",
      "mold press machine operator, Count: 1  =======> machine operator, Count: 39\n",
      "electronics repair technician, Count: 1  =======> technician, Count: 18\n",
      "ceramic tile installers tools transportation, Count: 1  =======> ceramic tile installers tools transportation, Count: 1\n",
      "data entry full time, Count: 1  =======> data entry, Count: 11\n",
      "hospitality positions, Count: 1  =======> hospitality positions, Count: 1\n",
      "insurance collections representative, Count: 1  =======> collections, Count: 5\n",
      "staffing recruiter coordinator established medical staffing, Count: 1  =======> recruiter, Count: 43\n",
      "licensed real estate assistant computer savvy boca, Count: 1  =======> assistant, Count: 3\n",
      "director – infrastructure information security, Count: 1  =======> director, Count: 6\n",
      "assistant director muhlenberg fund phonathon, Count: 1  =======> director, Count: 6\n",
      "personal assistant administrative assistants ft pt, Count: 1  =======> administrative assistant, Count: 249\n",
      "director med surge tele imc rn, Count: 1  =======> rn, Count: 24\n",
      "machine operators inspectors assembly, Count: 1  =======> assembly, Count: 11\n",
      "special education director, Count: 1  =======> director, Count: 6\n",
      "tool engineer injection molding, Count: 1  =======> engineer, Count: 11\n",
      "quality assurance manager electronic assembly, Count: 1  =======> manager, Count: 36\n",
      "practice manager opportunity, Count: 1  =======> manager, Count: 36\n",
      "supply chain operations director, Count: 1  =======> director, Count: 6\n",
      "recovery specialist government, Count: 1  =======> specialist, Count: 6\n",
      "recovery specialist medical accounts, Count: 1  =======> specialist, Count: 6\n",
      "associate trainer, Count: 1  =======> associate, Count: 1\n",
      "director enterprise network architecture, Count: 1  =======> director, Count: 6\n",
      "client engineer network operations center, Count: 1  =======> network engineer, Count: 37\n",
      "associate intrado technical support specialist, Count: 1  =======> technical support specialist, Count: 7\n",
      "associate noc technician, Count: 1  =======> technician, Count: 18\n",
      "quality assurance support analyst, Count: 1  =======> analyst, Count: 15\n",
      "senior ip engineer, Count: 1  =======> engineer, Count: 11\n",
      "assistant branch manager new york ny mmmmmmmmmmxxii, Count: 1  =======> assistant manager, Count: 67\n",
      "customer relations rep full time, Count: 1  =======> customer relations rep full time, Count: 1\n",
      "outside account executive, Count: 1  =======> account executive, Count: 101\n",
      "account management specialist, Count: 1  =======> management, Count: 13\n",
      "embedded systems software engineer, Count: 1  =======> software engineer, Count: 50\n",
      "software engineer bios basic input output system, Count: 1  =======> software engineer, Count: 50\n",
      "automation engineer manufacturing, Count: 1  =======> manufacturing engineer, Count: 66\n",
      "region managers retail restaurant managers, Count: 1  =======> restaurant managers, Count: 4\n",
      "manager grievance appeals, Count: 1  =======> manager, Count: 36\n",
      "cloverleaf hl7 interface analyst, Count: 1  =======> analyst, Count: 15\n",
      "medical sales rep peripehral vascular disease equipment, Count: 1  =======> sales, Count: 43\n",
      "medical services sales, Count: 1  =======> sales, Count: 43\n",
      "healthcare revenue cycle outsourcing sales, Count: 1  =======> sales, Count: 43\n",
      "plastics engineer injection molding, Count: 1  =======> engineer, Count: 11\n",
      "project engineer plastic product development, Count: 1  =======> project engineer, Count: 35\n",
      "systems admin mid level, Count: 1  =======> systems admin mid level, Count: 1\n",
      "unified communications project deployment lead, Count: 1  =======> unified communications project deployment lead, Count: 1\n",
      "project manager active directory migration, Count: 1  =======> project manager, Count: 157\n",
      "lead buyer automotive, Count: 1  =======> buyer, Count: 41\n",
      "unigraphics cad designer, Count: 1  =======> designer, Count: 8\n"
     ]
    }
   ],
   "source": [
    "for title, count in sorted(title_counts.items(), key=itemgetter(1))[:50]:\n",
    "    optimum_title = optimize_title(title)\n",
    "    optimum_count = title_counts[optimum_title]\n",
    "    print(\"{}, Count: {}  =======> {}, Count: {}\".format(title, count, optimum_title, optimum_count))"
   ]
  },
  {
   "cell_type": "code",
   "execution_count": 22,
   "metadata": {},
   "outputs": [
    {
     "name": "stderr",
     "output_type": "stream",
     "text": [
      "//anaconda3/lib/python3.7/site-packages/ipykernel_launcher.py:1: SettingWithCopyWarning: \n",
      "A value is trying to be set on a copy of a slice from a DataFrame.\n",
      "Try using .loc[row_indexer,col_indexer] = value instead\n",
      "\n",
      "See the caveats in the documentation: https://pandas.pydata.org/pandas-docs/stable/user_guide/indexing.html#returning-a-view-versus-a-copy\n",
      "  \"\"\"Entry point for launching an IPython kernel.\n"
     ]
    },
    {
     "data": {
      "text/plain": [
       "0                              engineer\n",
       "1                      business analyst\n",
       "42                               driver\n",
       "83       Owner Operators - Fleet Owners\n",
       "116                    machine operator\n",
       "                      ...              \n",
       "65563                 financial analyst\n",
       "65564                   project manager\n",
       "65565                sales professional\n",
       "65566                        specialist\n",
       "65567                       coordinator\n",
       "Name: Title, Length: 54077, dtype: object"
      ]
     },
     "execution_count": 22,
     "metadata": {},
     "output_type": "execute_result"
    }
   ],
   "source": [
    "jobs['Title'] = jobs['Title'].apply(lambda x: optimize_title(x))\n",
    "jobs['Title']"
   ]
  },
  {
   "cell_type": "markdown",
   "metadata": {},
   "source": [
    "### Filter Data"
   ]
  },
  {
   "cell_type": "code",
   "execution_count": 23,
   "metadata": {},
   "outputs": [
    {
     "data": {
      "text/plain": [
       "DIRECTV-MARKETING REPS                                                 1\n",
       "food preparation                                                       1\n",
       "Macy's Pembroke Lakes, Pembroke Pines, FL: Loss Prevention/Secur       1\n",
       "Key Carrier-Champion Outlet                                            1\n",
       "Macy's Mission Valley Home, San Diego, CA: Retail Support Associ       1\n",
       "                                                                    ... \n",
       "specialist                                                          1205\n",
       "franchise                                                           1211\n",
       "sales representative                                                2078\n",
       "sales                                                               3605\n",
       "manager                                                             3626\n",
       "Name: Title, Length: 4308, dtype: int64"
      ]
     },
     "execution_count": 23,
     "metadata": {},
     "output_type": "execute_result"
    }
   ],
   "source": [
    "jobs['Title'].value_counts(normalize=False, sort=True, ascending=True, bins=None, dropna=True)"
   ]
  },
  {
   "cell_type": "markdown",
   "metadata": {},
   "source": [
    "### Removing data with low frequency"
   ]
  },
  {
   "cell_type": "code",
   "execution_count": 24,
   "metadata": {},
   "outputs": [
    {
     "data": {
      "text/plain": [
       "15270"
      ]
     },
     "execution_count": 24,
     "metadata": {},
     "output_type": "execute_result"
    }
   ],
   "source": [
    "value_frequency = 100\n",
    "\n",
    "Job_Title = pd.DataFrame(jobs['Title'], columns=['Title'])\n",
    "indexes = Job_Title[Job_Title.groupby('Title').Title.transform(len) <= value_frequency].index\n",
    "len(indexes)"
   ]
  },
  {
   "cell_type": "code",
   "execution_count": 25,
   "metadata": {},
   "outputs": [
    {
     "name": "stdout",
     "output_type": "stream",
     "text": [
      "Data size before removing low frequency elements:  54077\n",
      "Data size after removing low frequency elements:  38807\n"
     ]
    }
   ],
   "source": [
    "print(\"Data size before removing low frequency elements: \", len(jobs))\n",
    "jobs.drop(indexes, inplace=True)\n",
    "print(\"Data size after removing low frequency elements: \", len(jobs))"
   ]
  },
  {
   "cell_type": "code",
   "execution_count": 26,
   "metadata": {},
   "outputs": [
    {
     "data": {
      "text/plain": [
       "accounts receivable      101\n",
       "paralegal                102\n",
       "director nursing         102\n",
       "instructor               103\n",
       "therapist                104\n",
       "                        ... \n",
       "specialist              1205\n",
       "franchise               1211\n",
       "sales representative    2078\n",
       "sales                   3605\n",
       "manager                 3626\n",
       "Name: Title, Length: 95, dtype: int64"
      ]
     },
     "execution_count": 26,
     "metadata": {},
     "output_type": "execute_result"
    }
   ],
   "source": [
    "jobs['Title'].value_counts(normalize=False, sort=True, ascending=True, bins=None, dropna=True)"
   ]
  },
  {
   "cell_type": "markdown",
   "metadata": {},
   "source": [
    "### TF-IDF and removing stopwords"
   ]
  },
  {
   "cell_type": "code",
   "execution_count": 27,
   "metadata": {},
   "outputs": [
    {
     "data": {
      "text/plain": [
       "<38807x53961 sparse matrix of type '<class 'numpy.float64'>'\n",
       "\twith 2580844 stored elements in Compressed Sparse Row format>"
      ]
     },
     "execution_count": 27,
     "metadata": {},
     "output_type": "execute_result"
    }
   ],
   "source": [
    "tfidf = TfidfVectorizer(use_idf=True, stop_words=stop_words)\n",
    "\n",
    "job_tfidf = tfidf.fit_transform(jobs['Requirements'])\n",
    "job_tfidf"
   ]
  },
  {
   "cell_type": "markdown",
   "metadata": {},
   "source": [
    "### Sampling Java Developer TF-IDF"
   ]
  },
  {
   "cell_type": "code",
   "execution_count": 28,
   "metadata": {},
   "outputs": [
    {
     "data": {
      "text/html": [
       "<div>\n",
       "<style scoped>\n",
       "    .dataframe tbody tr th:only-of-type {\n",
       "        vertical-align: middle;\n",
       "    }\n",
       "\n",
       "    .dataframe tbody tr th {\n",
       "        vertical-align: top;\n",
       "    }\n",
       "\n",
       "    .dataframe thead th {\n",
       "        text-align: right;\n",
       "    }\n",
       "</style>\n",
       "<table border=\"1\" class=\"dataframe\">\n",
       "  <thead>\n",
       "    <tr style=\"text-align: right;\">\n",
       "      <th></th>\n",
       "      <th>index</th>\n",
       "      <th>JobID</th>\n",
       "      <th>Title</th>\n",
       "      <th>Description</th>\n",
       "      <th>Requirements</th>\n",
       "      <th>State</th>\n",
       "      <th>City</th>\n",
       "    </tr>\n",
       "  </thead>\n",
       "  <tbody>\n",
       "    <tr>\n",
       "      <th>388</th>\n",
       "      <td>388</td>\n",
       "      <td>1418</td>\n",
       "      <td>java developer</td>\n",
       "      <td>As a member of the Web and Portal Development ...</td>\n",
       "      <td>Requires a Bachelor's degree and two years dir...</td>\n",
       "      <td>KY</td>\n",
       "      <td>Louisville</td>\n",
       "    </tr>\n",
       "    <tr>\n",
       "      <th>395</th>\n",
       "      <td>395</td>\n",
       "      <td>1442</td>\n",
       "      <td>java developer</td>\n",
       "      <td>HSI &amp; The Department o...</td>\n",
       "      <td>• Minimum of (3) three years experience as a J...</td>\n",
       "      <td>NC</td>\n",
       "      <td>Raleigh</td>\n",
       "    </tr>\n",
       "    <tr>\n",
       "      <th>713</th>\n",
       "      <td>713</td>\n",
       "      <td>2604</td>\n",
       "      <td>java developer</td>\n",
       "      <td>Application Developer-Senior-JavaSummary:This ...</td>\n",
       "      <td>Minimum Experience    Minimum 7 years of exper...</td>\n",
       "      <td>NY</td>\n",
       "      <td>New York</td>\n",
       "    </tr>\n",
       "    <tr>\n",
       "      <th>2426</th>\n",
       "      <td>2426</td>\n",
       "      <td>9164</td>\n",
       "      <td>java developer</td>\n",
       "      <td>The Wells Fargo Home Mortgage Servicing Defaul...</td>\n",
       "      <td>* Basic Qualifications: 5+ years application d...</td>\n",
       "      <td>MN</td>\n",
       "      <td>Minneapolis</td>\n",
       "    </tr>\n",
       "    <tr>\n",
       "      <th>3176</th>\n",
       "      <td>3176</td>\n",
       "      <td>12789</td>\n",
       "      <td>java developer</td>\n",
       "      <td>Security Clearance: Public TrustExperience dev...</td>\n",
       "      <td>A Total Value package.There is much to be said...</td>\n",
       "      <td>VA</td>\n",
       "      <td>Arlington</td>\n",
       "    </tr>\n",
       "    <tr>\n",
       "      <th>...</th>\n",
       "      <td>...</td>\n",
       "      <td>...</td>\n",
       "      <td>...</td>\n",
       "      <td>...</td>\n",
       "      <td>...</td>\n",
       "      <td>...</td>\n",
       "      <td>...</td>\n",
       "    </tr>\n",
       "    <tr>\n",
       "      <th>64024</th>\n",
       "      <td>64024</td>\n",
       "      <td>432393</td>\n",
       "      <td>java developer</td>\n",
       "      <td>This company never takes itself too seriously ...</td>\n",
       "      <td>Bachelors Degree, Java, JavaScripts, XML, HTML...</td>\n",
       "      <td>NC</td>\n",
       "      <td>Cary</td>\n",
       "    </tr>\n",
       "    <tr>\n",
       "      <th>64298</th>\n",
       "      <td>64298</td>\n",
       "      <td>443212</td>\n",
       "      <td>java developer</td>\n",
       "      <td>MDI Group is a premier IT workforce solutions ...</td>\n",
       "      <td>Java Swing</td>\n",
       "      <td>TX</td>\n",
       "      <td>Fort Worth</td>\n",
       "    </tr>\n",
       "    <tr>\n",
       "      <th>64557</th>\n",
       "      <td>64557</td>\n",
       "      <td>453866</td>\n",
       "      <td>java developer</td>\n",
       "      <td>Duties &amp; Responsibilities The Key Responsibili...</td>\n",
       "      <td></td>\n",
       "      <td>MA</td>\n",
       "      <td>Cambridge</td>\n",
       "    </tr>\n",
       "    <tr>\n",
       "      <th>65214</th>\n",
       "      <td>65214</td>\n",
       "      <td>478470</td>\n",
       "      <td>java developer</td>\n",
       "      <td>VML is one of the most innovative marketin...</td>\n",
       "      <td>(See Job Description)</td>\n",
       "      <td>MO</td>\n",
       "      <td>Kansas City</td>\n",
       "    </tr>\n",
       "    <tr>\n",
       "      <th>65541</th>\n",
       "      <td>65541</td>\n",
       "      <td>492338</td>\n",
       "      <td>java developer</td>\n",
       "      <td>Conexess is a national provider of career oppo...</td>\n",
       "      <td>Summary:• Minimum of five years of technical e...</td>\n",
       "      <td>KS</td>\n",
       "      <td>Lenexa</td>\n",
       "    </tr>\n",
       "  </tbody>\n",
       "</table>\n",
       "<p>240 rows × 7 columns</p>\n",
       "</div>"
      ],
      "text/plain": [
       "       index   JobID           Title  \\\n",
       "388      388    1418  java developer   \n",
       "395      395    1442  java developer   \n",
       "713      713    2604  java developer   \n",
       "2426    2426    9164  java developer   \n",
       "3176    3176   12789  java developer   \n",
       "...      ...     ...             ...   \n",
       "64024  64024  432393  java developer   \n",
       "64298  64298  443212  java developer   \n",
       "64557  64557  453866  java developer   \n",
       "65214  65214  478470  java developer   \n",
       "65541  65541  492338  java developer   \n",
       "\n",
       "                                             Description  \\\n",
       "388    As a member of the Web and Portal Development ...   \n",
       "395                            HSI & The Department o...   \n",
       "713    Application Developer-Senior-JavaSummary:This ...   \n",
       "2426   The Wells Fargo Home Mortgage Servicing Defaul...   \n",
       "3176   Security Clearance: Public TrustExperience dev...   \n",
       "...                                                  ...   \n",
       "64024  This company never takes itself too seriously ...   \n",
       "64298  MDI Group is a premier IT workforce solutions ...   \n",
       "64557  Duties & Responsibilities The Key Responsibili...   \n",
       "65214      VML is one of the most innovative marketin...   \n",
       "65541  Conexess is a national provider of career oppo...   \n",
       "\n",
       "                                            Requirements State         City  \n",
       "388    Requires a Bachelor's degree and two years dir...    KY   Louisville  \n",
       "395    • Minimum of (3) three years experience as a J...    NC      Raleigh  \n",
       "713    Minimum Experience    Minimum 7 years of exper...    NY     New York  \n",
       "2426   * Basic Qualifications: 5+ years application d...    MN  Minneapolis  \n",
       "3176   A Total Value package.There is much to be said...    VA    Arlington  \n",
       "...                                                  ...   ...          ...  \n",
       "64024  Bachelors Degree, Java, JavaScripts, XML, HTML...    NC         Cary  \n",
       "64298                                         Java Swing    TX   Fort Worth  \n",
       "64557                                                       MA    Cambridge  \n",
       "65214                              (See Job Description)    MO  Kansas City  \n",
       "65541  Summary:• Minimum of five years of technical e...    KS       Lenexa  \n",
       "\n",
       "[240 rows x 7 columns]"
      ]
     },
     "execution_count": 28,
     "metadata": {},
     "output_type": "execute_result"
    }
   ],
   "source": [
    "java_developer = jobs[ jobs['Title'] == 'java developer' ]\n",
    "java_developer"
   ]
  },
  {
   "cell_type": "code",
   "execution_count": 29,
   "metadata": {},
   "outputs": [],
   "source": [
    "# we need an index map for mapping Jave Developer index to jobs index\n",
    "index_map = {}\n",
    "count = 0\n",
    "for index in jobs['index']:\n",
    "    index_map[index] = count\n",
    "    count += 1"
   ]
  },
  {
   "cell_type": "code",
   "execution_count": 30,
   "metadata": {},
   "outputs": [
    {
     "data": {
      "text/plain": [
       "<1x53961 sparse matrix of type '<class 'numpy.float64'>'\n",
       "\twith 59 stored elements in Compressed Sparse Row format>"
      ]
     },
     "execution_count": 30,
     "metadata": {},
     "output_type": "execute_result"
    }
   ],
   "source": [
    "java_developer_tfidf = []\n",
    "for index in java_developer['index']:\n",
    "    java_developer_tfidf.append( job_tfidf[ index_map[index] ])\n",
    "java_developer_tfidf[1]"
   ]
  },
  {
   "cell_type": "code",
   "execution_count": 31,
   "metadata": {},
   "outputs": [
    {
     "data": {
      "text/plain": [
       "\"Minimum Experience    Minimum 7 years of experience in web application development and architecture, using Java and related technologies for new feature development    In-depth experience with Java (J2EE/J2SE) and related technologies: Spring Framework, Hibernate, & JUnit    Solid understanding of OOP and relational databases\\xa0for implementing database-driven, web-based applications    Solid understanding of data structures    Solid understanding of design patterns    Strong hands-on knowledge of\\xa0XML/XSL    Java and J2EE Fluency    Database: SQL, JDBC, Hibernate    Web: Spring, Struts, JSP, Servlet,JSTL,    Containers: Tomcat, WebLogic    XML: JDOM, SAX, XSLT, XStream    Build: Eclipse, Maven, Ant, NetBeans, JUnit    Solid understanding of UNIX    Jira, Confluence, Bamboo, Git    MacOS Minimum EducationBachelor's degree in Information Technology \\xa0\""
      ]
     },
     "execution_count": 31,
     "metadata": {},
     "output_type": "execute_result"
    }
   ],
   "source": [
    "jobs['Requirements'][713]"
   ]
  },
  {
   "cell_type": "code",
   "execution_count": 32,
   "metadata": {},
   "outputs": [
    {
     "data": {
      "text/html": [
       "<div>\n",
       "<style scoped>\n",
       "    .dataframe tbody tr th:only-of-type {\n",
       "        vertical-align: middle;\n",
       "    }\n",
       "\n",
       "    .dataframe tbody tr th {\n",
       "        vertical-align: top;\n",
       "    }\n",
       "\n",
       "    .dataframe thead th {\n",
       "        text-align: right;\n",
       "    }\n",
       "</style>\n",
       "<table border=\"1\" class=\"dataframe\">\n",
       "  <thead>\n",
       "    <tr style=\"text-align: right;\">\n",
       "      <th></th>\n",
       "      <th>TF-IDF</th>\n",
       "    </tr>\n",
       "  </thead>\n",
       "  <tbody>\n",
       "    <tr>\n",
       "      <th>hod</th>\n",
       "      <td>0.215448</td>\n",
       "    </tr>\n",
       "    <tr>\n",
       "      <th>oracle</th>\n",
       "      <td>0.210566</td>\n",
       "    </tr>\n",
       "    <tr>\n",
       "      <th>java</th>\n",
       "      <td>0.204871</td>\n",
       "    </tr>\n",
       "    <tr>\n",
       "      <th>referenced</th>\n",
       "      <td>0.203605</td>\n",
       "    </tr>\n",
       "    <tr>\n",
       "      <th>subsequent</th>\n",
       "      <td>0.194039</td>\n",
       "    </tr>\n",
       "    <tr>\n",
       "      <th>environmentpreferred</th>\n",
       "      <td>0.188935</td>\n",
       "    </tr>\n",
       "    <tr>\n",
       "      <th>sql</th>\n",
       "      <td>0.177452</td>\n",
       "    </tr>\n",
       "    <tr>\n",
       "      <th>host</th>\n",
       "      <td>0.172805</td>\n",
       "    </tr>\n",
       "    <tr>\n",
       "      <th>three</th>\n",
       "      <td>0.171794</td>\n",
       "    </tr>\n",
       "    <tr>\n",
       "      <th>triggers</th>\n",
       "      <td>0.171439</td>\n",
       "    </tr>\n",
       "    <tr>\n",
       "      <th>using</th>\n",
       "      <td>0.170603</td>\n",
       "    </tr>\n",
       "    <tr>\n",
       "      <th>closes</th>\n",
       "      <td>0.168367</td>\n",
       "    </tr>\n",
       "    <tr>\n",
       "      <th>10g</th>\n",
       "      <td>0.167802</td>\n",
       "    </tr>\n",
       "    <tr>\n",
       "      <th>ee</th>\n",
       "      <td>0.158136</td>\n",
       "    </tr>\n",
       "    <tr>\n",
       "      <th>enhancements</th>\n",
       "      <td>0.157786</td>\n",
       "    </tr>\n",
       "  </tbody>\n",
       "</table>\n",
       "</div>"
      ],
      "text/plain": [
       "                        TF-IDF\n",
       "hod                   0.215448\n",
       "oracle                0.210566\n",
       "java                  0.204871\n",
       "referenced            0.203605\n",
       "subsequent            0.194039\n",
       "environmentpreferred  0.188935\n",
       "sql                   0.177452\n",
       "host                  0.172805\n",
       "three                 0.171794\n",
       "triggers              0.171439\n",
       "using                 0.170603\n",
       "closes                0.168367\n",
       "10g                   0.167802\n",
       "ee                    0.158136\n",
       "enhancements          0.157786"
      ]
     },
     "execution_count": 32,
     "metadata": {},
     "output_type": "execute_result"
    }
   ],
   "source": [
    "example = java_developer_tfidf[1]\n",
    "tfidf_example = pd.DataFrame(example.T.todense(), index=tfidf.get_feature_names(), columns=['TF-IDF'])\n",
    "\n",
    "# Sort TF-IDF by descending\n",
    "tfidf_example = tfidf_example.sort_values(by=[\"TF-IDF\"],ascending=False)\n",
    "\n",
    "# Drop TF-IDF value less than 0\n",
    "tfidf_example = tfidf_example[tfidf_example['TF-IDF'] > 0]\n",
    "tfidf_example.head(15)"
   ]
  },
  {
   "cell_type": "markdown",
   "metadata": {},
   "source": [
    "### Only keeping noun for the job requirements as skill set"
   ]
  },
  {
   "cell_type": "code",
   "execution_count": 33,
   "metadata": {},
   "outputs": [],
   "source": [
    "# Reference: http://www.nltk.org/book/ch05.html\n",
    "# Reference: https://www.ling.upenn.edu/courses/Fall_2003/ling001/penn_treebank_pos.html\n",
    "\n",
    "def get_noun(text):\n",
    "\n",
    "    tokens = nltk.word_tokenize(text)\n",
    "    tagged = nltk.pos_tag(tokens)\n",
    "\n",
    "    tagged_filtered = []\n",
    "    for tag in tagged:\n",
    "        if 'NN' in tag[1]:\n",
    "            tagged_filtered.append(tag[0].lower())\n",
    "    return ' '.join(tagged_filtered)"
   ]
  },
  {
   "cell_type": "code",
   "execution_count": 34,
   "metadata": {},
   "outputs": [
    {
     "name": "stdout",
     "output_type": "stream",
     "text": [
      "      Skill set  Tag\n",
      "0    Experience   NN\n",
      "1          with   IN\n",
      "2           one   CD\n",
      "3            or   CC\n",
      "4          more  JJR\n",
      "5       general   JJ\n",
      "6       purpose   NN\n",
      "7   programming   NN\n",
      "8     languages  VBZ\n",
      "9     including  VBG\n",
      "10          but   CC\n",
      "11          not   RB\n",
      "12      limited   JJ\n",
      "13           to   TO\n",
      "14            :    :\n",
      "15         Java  NNP\n",
      "16            ,    ,\n",
      "17        C/C++  NNP\n",
      "18            ,    ,\n",
      "19            C  NNP\n",
      "20            #    #\n",
      "21            ,    ,\n",
      "22    Objective  NNP\n",
      "23            C  NNP\n",
      "24            ,    ,\n",
      "25       Python  NNP\n",
      "26            ,    ,\n",
      "27   JavaScript  NNP\n",
      "28            ,    ,\n",
      "29           or   CC\n",
      "30           Go   VB\n"
     ]
    }
   ],
   "source": [
    "# example = 'Extensive knowledge of Java, Golang, RESTful API, MySQL, JS, Python, HTML, CSS, SQL, Git, Bash, AWS EC2, S3, LB, ECR, RDS, VPC, Cognito, API Gateway, Lambda, CodePipeline, etc Tool, Docker, Redis, Postman, Nginx, React, AngularJS, Maven, Spring, Kafka, Cassandra, Hadoop Knowledge, Agile, JSON, Map Reduce, Message Queue, Bootstrap'\n",
    "example = 'Experience with one or more general purpose programming languages including but not limited to: Java, C/C++, C#, Objective C, Python, JavaScript, or Go'\n",
    "\n",
    "tokens = nltk.word_tokenize(example)\n",
    "tagged = nltk.pos_tag(tokens)\n",
    "print(pd.DataFrame(tagged).rename(columns={0:'Skill set', 1:'Tag'}))"
   ]
  },
  {
   "cell_type": "code",
   "execution_count": 35,
   "metadata": {},
   "outputs": [
    {
     "name": "stdout",
     "output_type": "stream",
     "text": [
      "\n",
      " Before extracting noun from the text: \n",
      "Minimum Experience    Minimum 7 years of experience in web application development and architecture, using Java and related technologies for new feature development    In-depth experience with Java (J2EE/J2SE) and related technologies: Spring Framework, Hibernate, & JUnit    Solid understanding of OOP and relational databases for implementing database-driven, web-based applications    Solid understanding of data structures    Solid understanding of design patterns    Strong hands-on knowledge of XML/XSL    Java and J2EE Fluency    Database: SQL, JDBC, Hibernate    Web: Spring, Struts, JSP, Servlet,JSTL,    Containers: Tomcat, WebLogic    XML: JDOM, SAX, XSLT, XStream    Build: Eclipse, Maven, Ant, NetBeans, JUnit    Solid understanding of UNIX    Jira, Confluence, Bamboo, Git    MacOS Minimum EducationBachelor's degree in Information Technology  \n",
      "\n",
      " After extracting noun from the text: \n",
      "experience minimum years experience application development architecture java technologies feature development in-depth experience java j2ee/j2se technologies spring framework hibernate junit solid understanding oop databases applications solid understanding data structures solid understanding design patterns knowledge xml/xsl java j2ee fluency database sql jdbc hibernate web spring struts jsp servlet jstl containers tomcat weblogic xml jdom sax xslt xstream build eclipse maven ant netbeans junit solid understanding unix jira confluence bamboo git macos minimum educationbachelor degree information technology\n"
     ]
    }
   ],
   "source": [
    "example = 'Extensive knowledge of Java, Golang, RESTful API, MySQL, JS, Python, HTML, CSS, SQL, Git, Bash, AWS EC2, S3, LB, ECR, RDS, VPC, Cognito, API Gateway, Lambda, CodePipeline, etc Tool, Docker, Redis, Postman, Nginx, React, AngularJS, Maven, Spring, Kafka, Cassandra, Hadoop Knowledge, Agile, JSON, Map Reduce, Message Queue, Bootstrap'\n",
    "example = jobs['Requirements'][713]\n",
    "print('\\n Before extracting noun from the text: \\n{}'.format(example))\n",
    "example = get_noun(example)\n",
    "print('\\n After extracting noun from the text: \\n{}'.format(example))"
   ]
  },
  {
   "cell_type": "code",
   "execution_count": 36,
   "metadata": {},
   "outputs": [
    {
     "name": "stderr",
     "output_type": "stream",
     "text": [
      "//anaconda3/lib/python3.7/site-packages/ipykernel_launcher.py:1: SettingWithCopyWarning: \n",
      "A value is trying to be set on a copy of a slice from a DataFrame.\n",
      "Try using .loc[row_indexer,col_indexer] = value instead\n",
      "\n",
      "See the caveats in the documentation: https://pandas.pydata.org/pandas-docs/stable/user_guide/indexing.html#returning-a-view-versus-a-copy\n",
      "  \"\"\"Entry point for launching an IPython kernel.\n"
     ]
    }
   ],
   "source": [
    "jobs['Requirements'] = jobs['Requirements'].apply(lambda x: get_noun(x))\n",
    "# jobs['Requirements']"
   ]
  },
  {
   "cell_type": "code",
   "execution_count": 37,
   "metadata": {},
   "outputs": [
    {
     "name": "stdout",
     "output_type": "stream",
     "text": [
      "38807\n",
      "38807\n"
     ]
    }
   ],
   "source": [
    "jobs_set = []\n",
    "for Requirements in jobs['Requirements']:\n",
    "    job_vector = set()\n",
    "    for word in list(Requirements.split(' ')):\n",
    "        job_vector.add(word)\n",
    "    jobs_set.append(job_vector)\n",
    "\n",
    "print(len(jobs_set))\n",
    "print(len(jobs))\n"
   ]
  },
  {
   "cell_type": "markdown",
   "metadata": {},
   "source": [
    "## Testing"
   ]
  },
  {
   "cell_type": "code",
   "execution_count": 38,
   "metadata": {},
   "outputs": [
    {
     "data": {
      "text/plain": [
       "{'agile',\n",
       " 'angularjs',\n",
       " 'api',\n",
       " 'aws',\n",
       " 'bash',\n",
       " 'bootstrap',\n",
       " 'cassandra',\n",
       " 'codepipeline',\n",
       " 'cognito',\n",
       " 'css',\n",
       " 'docker',\n",
       " 'ec2',\n",
       " 'ecr',\n",
       " 'gateway',\n",
       " 'git',\n",
       " 'golang',\n",
       " 'hadoop',\n",
       " 'html',\n",
       " 'java',\n",
       " 'js',\n",
       " 'json',\n",
       " 'kafka',\n",
       " 'knowledge',\n",
       " 'lambda',\n",
       " 'lb',\n",
       " 'map',\n",
       " 'maven',\n",
       " 'message',\n",
       " 'mysql',\n",
       " 'nginx',\n",
       " 'postman',\n",
       " 'python',\n",
       " 'queue',\n",
       " 'rds',\n",
       " 'react',\n",
       " 'redis',\n",
       " 'reduce',\n",
       " 'restful',\n",
       " 's3',\n",
       " 'spring',\n",
       " 'sql',\n",
       " 'tool',\n",
       " 'vpc'}"
      ]
     },
     "execution_count": 38,
     "metadata": {},
     "output_type": "execute_result"
    }
   ],
   "source": [
    "user_profile = set(['knowledge', 'java', 'golang', 'restful', 'api', 'mysql', 'js', 'python', 'html', 'css', 'sql', 'git', 'bash', 'aws', 'ec2', 's3', 'lb', 'ecr', 'rds', 'vpc', 'cognito', 'api', 'gateway', 'lambda', 'codepipeline', 'tool', 'docker', 'redis', 'postman', 'nginx', 'react', 'angularjs', 'maven', 'spring', 'kafka', 'cassandra', 'hadoop', 'knowledge', 'agile', 'json', 'map', 'reduce', 'message', 'queue', 'bootstrap'])\n",
    "user_profile"
   ]
  },
  {
   "cell_type": "markdown",
   "metadata": {},
   "source": [
    "### Jaccard Similarity based matching"
   ]
  },
  {
   "cell_type": "code",
   "execution_count": 39,
   "metadata": {},
   "outputs": [],
   "source": [
    "similarities = []\n",
    "ID = 0\n",
    "for job in jobs_set:\n",
    "    \n",
    "    count = 0\n",
    "    similarity = 0.0\n",
    "    for skill in job:\n",
    "        if skill in user_profile:\n",
    "            count += 1\n",
    "    \n",
    "    if (len(skill)) - count != 0:\n",
    "        similarity = count / ( len(skill) + len(user_profile) - count )\n",
    "        \n",
    "    similarities.append([ID, similarity])\n",
    "    ID += 1\n",
    "    \n",
    "# similarities"
   ]
  },
  {
   "cell_type": "code",
   "execution_count": 40,
   "metadata": {},
   "outputs": [
    {
     "data": {
      "text/html": [
       "<div>\n",
       "<style scoped>\n",
       "    .dataframe tbody tr th:only-of-type {\n",
       "        vertical-align: middle;\n",
       "    }\n",
       "\n",
       "    .dataframe tbody tr th {\n",
       "        vertical-align: top;\n",
       "    }\n",
       "\n",
       "    .dataframe thead th {\n",
       "        text-align: right;\n",
       "    }\n",
       "</style>\n",
       "<table border=\"1\" class=\"dataframe\">\n",
       "  <thead>\n",
       "    <tr style=\"text-align: right;\">\n",
       "      <th></th>\n",
       "      <th>index</th>\n",
       "      <th>Similarity</th>\n",
       "    </tr>\n",
       "  </thead>\n",
       "  <tbody>\n",
       "    <tr>\n",
       "      <th>0</th>\n",
       "      <td>0</td>\n",
       "      <td>0.000000</td>\n",
       "    </tr>\n",
       "    <tr>\n",
       "      <th>1</th>\n",
       "      <td>1</td>\n",
       "      <td>0.000000</td>\n",
       "    </tr>\n",
       "    <tr>\n",
       "      <th>2</th>\n",
       "      <td>2</td>\n",
       "      <td>0.000000</td>\n",
       "    </tr>\n",
       "    <tr>\n",
       "      <th>3</th>\n",
       "      <td>3</td>\n",
       "      <td>0.021277</td>\n",
       "    </tr>\n",
       "    <tr>\n",
       "      <th>4</th>\n",
       "      <td>4</td>\n",
       "      <td>0.000000</td>\n",
       "    </tr>\n",
       "    <tr>\n",
       "      <th>...</th>\n",
       "      <td>...</td>\n",
       "      <td>...</td>\n",
       "    </tr>\n",
       "    <tr>\n",
       "      <th>38802</th>\n",
       "      <td>38802</td>\n",
       "      <td>0.000000</td>\n",
       "    </tr>\n",
       "    <tr>\n",
       "      <th>38803</th>\n",
       "      <td>38803</td>\n",
       "      <td>0.021277</td>\n",
       "    </tr>\n",
       "    <tr>\n",
       "      <th>38804</th>\n",
       "      <td>38804</td>\n",
       "      <td>0.018182</td>\n",
       "    </tr>\n",
       "    <tr>\n",
       "      <th>38805</th>\n",
       "      <td>38805</td>\n",
       "      <td>0.000000</td>\n",
       "    </tr>\n",
       "    <tr>\n",
       "      <th>38806</th>\n",
       "      <td>38806</td>\n",
       "      <td>0.020408</td>\n",
       "    </tr>\n",
       "  </tbody>\n",
       "</table>\n",
       "<p>38807 rows × 2 columns</p>\n",
       "</div>"
      ],
      "text/plain": [
       "       index  Similarity\n",
       "0          0    0.000000\n",
       "1          1    0.000000\n",
       "2          2    0.000000\n",
       "3          3    0.021277\n",
       "4          4    0.000000\n",
       "...      ...         ...\n",
       "38802  38802    0.000000\n",
       "38803  38803    0.021277\n",
       "38804  38804    0.018182\n",
       "38805  38805    0.000000\n",
       "38806  38806    0.020408\n",
       "\n",
       "[38807 rows x 2 columns]"
      ]
     },
     "execution_count": 40,
     "metadata": {},
     "output_type": "execute_result"
    }
   ],
   "source": [
    "similarities = pd.DataFrame(similarities)\n",
    "similarities = similarities.rename(columns={0:'index', 1:'Similarity'})\n",
    "similarities"
   ]
  },
  {
   "cell_type": "markdown",
   "metadata": {},
   "source": [
    "### Providing top 10 recommandation based on similarity"
   ]
  },
  {
   "cell_type": "code",
   "execution_count": 41,
   "metadata": {},
   "outputs": [
    {
     "data": {
      "text/html": [
       "<div>\n",
       "<style scoped>\n",
       "    .dataframe tbody tr th:only-of-type {\n",
       "        vertical-align: middle;\n",
       "    }\n",
       "\n",
       "    .dataframe tbody tr th {\n",
       "        vertical-align: top;\n",
       "    }\n",
       "\n",
       "    .dataframe thead th {\n",
       "        text-align: right;\n",
       "    }\n",
       "</style>\n",
       "<table border=\"1\" class=\"dataframe\">\n",
       "  <thead>\n",
       "    <tr style=\"text-align: right;\">\n",
       "      <th></th>\n",
       "      <th>index</th>\n",
       "      <th>Similarity</th>\n",
       "    </tr>\n",
       "  </thead>\n",
       "  <tbody>\n",
       "    <tr>\n",
       "      <th>22788</th>\n",
       "      <td>22788</td>\n",
       "      <td>0.263158</td>\n",
       "    </tr>\n",
       "    <tr>\n",
       "      <th>21314</th>\n",
       "      <td>21314</td>\n",
       "      <td>0.179487</td>\n",
       "    </tr>\n",
       "    <tr>\n",
       "      <th>9909</th>\n",
       "      <td>9909</td>\n",
       "      <td>0.179487</td>\n",
       "    </tr>\n",
       "    <tr>\n",
       "      <th>626</th>\n",
       "      <td>626</td>\n",
       "      <td>0.179487</td>\n",
       "    </tr>\n",
       "    <tr>\n",
       "      <th>35207</th>\n",
       "      <td>35207</td>\n",
       "      <td>0.175000</td>\n",
       "    </tr>\n",
       "    <tr>\n",
       "      <th>6067</th>\n",
       "      <td>6067</td>\n",
       "      <td>0.175000</td>\n",
       "    </tr>\n",
       "    <tr>\n",
       "      <th>6876</th>\n",
       "      <td>6876</td>\n",
       "      <td>0.170732</td>\n",
       "    </tr>\n",
       "    <tr>\n",
       "      <th>35540</th>\n",
       "      <td>35540</td>\n",
       "      <td>0.170732</td>\n",
       "    </tr>\n",
       "    <tr>\n",
       "      <th>16866</th>\n",
       "      <td>16866</td>\n",
       "      <td>0.170732</td>\n",
       "    </tr>\n",
       "    <tr>\n",
       "      <th>10205</th>\n",
       "      <td>10205</td>\n",
       "      <td>0.166667</td>\n",
       "    </tr>\n",
       "  </tbody>\n",
       "</table>\n",
       "</div>"
      ],
      "text/plain": [
       "       index  Similarity\n",
       "22788  22788    0.263158\n",
       "21314  21314    0.179487\n",
       "9909    9909    0.179487\n",
       "626      626    0.179487\n",
       "35207  35207    0.175000\n",
       "6067    6067    0.175000\n",
       "6876    6876    0.170732\n",
       "35540  35540    0.170732\n",
       "16866  16866    0.170732\n",
       "10205  10205    0.166667"
      ]
     },
     "execution_count": 41,
     "metadata": {},
     "output_type": "execute_result"
    }
   ],
   "source": [
    "similarities = similarities.sort_values(by=[\"Similarity\"],ascending=False)\n",
    "top_10_jobs = similarities.head(10)\n",
    "top_10_jobs"
   ]
  },
  {
   "cell_type": "code",
   "execution_count": 42,
   "metadata": {},
   "outputs": [
    {
     "data": {
      "text/html": [
       "<div>\n",
       "<style scoped>\n",
       "    .dataframe tbody tr th:only-of-type {\n",
       "        vertical-align: middle;\n",
       "    }\n",
       "\n",
       "    .dataframe tbody tr th {\n",
       "        vertical-align: top;\n",
       "    }\n",
       "\n",
       "    .dataframe thead th {\n",
       "        text-align: right;\n",
       "    }\n",
       "</style>\n",
       "<table border=\"1\" class=\"dataframe\">\n",
       "  <thead>\n",
       "    <tr style=\"text-align: right;\">\n",
       "      <th></th>\n",
       "      <th>index</th>\n",
       "      <th>JobID</th>\n",
       "      <th>Title</th>\n",
       "      <th>Description</th>\n",
       "      <th>Requirements</th>\n",
       "      <th>State</th>\n",
       "      <th>City</th>\n",
       "    </tr>\n",
       "  </thead>\n",
       "  <tbody>\n",
       "    <tr>\n",
       "      <th>38992</th>\n",
       "      <td>38992</td>\n",
       "      <td>800943</td>\n",
       "      <td>java developer</td>\n",
       "      <td>The Senior Java Developer will be responsible ...</td>\n",
       "      <td>requirements years software development years ...</td>\n",
       "      <td>OH</td>\n",
       "      <td>Cleveland</td>\n",
       "    </tr>\n",
       "    <tr>\n",
       "      <th>36598</th>\n",
       "      <td>36598</td>\n",
       "      <td>750572</td>\n",
       "      <td>java developer</td>\n",
       "      <td>Our Client (PRESTIGOUS EDUCATIONAL INSTITUTION...</td>\n",
       "      <td>years experience experience html css js ajaxex...</td>\n",
       "      <td>NY</td>\n",
       "      <td>New York</td>\n",
       "    </tr>\n",
       "    <tr>\n",
       "      <th>17102</th>\n",
       "      <td>17102</td>\n",
       "      <td>306344</td>\n",
       "      <td>developer</td>\n",
       "      <td>Senior Mobile Applications Developer for Inter...</td>\n",
       "      <td>senior mobile applications developer broomfiel...</td>\n",
       "      <td>CO</td>\n",
       "      <td>Broomfield</td>\n",
       "    </tr>\n",
       "    <tr>\n",
       "      <th>1515</th>\n",
       "      <td>1515</td>\n",
       "      <td>6116</td>\n",
       "      <td>developer</td>\n",
       "      <td>Senior Mobile Applications Developer for Inter...</td>\n",
       "      <td>senior mobile applications developer broomfiel...</td>\n",
       "      <td>CA</td>\n",
       "      <td>San Mateo</td>\n",
       "    </tr>\n",
       "    <tr>\n",
       "      <th>59836</th>\n",
       "      <td>59836</td>\n",
       "      <td>262056</td>\n",
       "      <td>net developer</td>\n",
       "      <td>Write functional and technical specifications....</td>\n",
       "      <td>minimum years experience solutions microsoft t...</td>\n",
       "      <td>CA</td>\n",
       "      <td>Encino</td>\n",
       "    </tr>\n",
       "    <tr>\n",
       "      <th>10479</th>\n",
       "      <td>10479</td>\n",
       "      <td>151258</td>\n",
       "      <td>manager</td>\n",
       "      <td>Position Summary:The successful candidate will...</td>\n",
       "      <td>qualifications experience environment projects...</td>\n",
       "      <td>VA</td>\n",
       "      <td>Williamsburg</td>\n",
       "    </tr>\n",
       "    <tr>\n",
       "      <th>11831</th>\n",
       "      <td>11831</td>\n",
       "      <td>179962</td>\n",
       "      <td>web developer</td>\n",
       "      <td>Our fast growing and well established client i...</td>\n",
       "      <td>b.s studies computer science experience years ...</td>\n",
       "      <td>CA</td>\n",
       "      <td>Palo Alto</td>\n",
       "    </tr>\n",
       "    <tr>\n",
       "      <th>60351</th>\n",
       "      <td>60351</td>\n",
       "      <td>285144</td>\n",
       "      <td>architect</td>\n",
       "      <td>Location: Annapolis Junction, MDClearance:TS//...</td>\n",
       "      <td>requirements active top secret sci full scope ...</td>\n",
       "      <td>MD</td>\n",
       "      <td>Annapolis Junction</td>\n",
       "    </tr>\n",
       "    <tr>\n",
       "      <th>29148</th>\n",
       "      <td>29148</td>\n",
       "      <td>588219</td>\n",
       "      <td>software engineer</td>\n",
       "      <td>Responsibilities:    Designing and building va...</td>\n",
       "      <td>qualifications years development java + linux ...</td>\n",
       "      <td>NY</td>\n",
       "      <td>New York</td>\n",
       "    </tr>\n",
       "    <tr>\n",
       "      <th>17613</th>\n",
       "      <td>17613</td>\n",
       "      <td>318439</td>\n",
       "      <td>developer</td>\n",
       "      <td>Responsibilities: Job Responsibilities:Work wi...</td>\n",
       "      <td>years php/lamp development experience building...</td>\n",
       "      <td>CA</td>\n",
       "      <td>Los Angeles</td>\n",
       "    </tr>\n",
       "  </tbody>\n",
       "</table>\n",
       "</div>"
      ],
      "text/plain": [
       "       index   JobID              Title  \\\n",
       "38992  38992  800943     java developer   \n",
       "36598  36598  750572     java developer   \n",
       "17102  17102  306344          developer   \n",
       "1515    1515    6116          developer   \n",
       "59836  59836  262056      net developer   \n",
       "10479  10479  151258            manager   \n",
       "11831  11831  179962      web developer   \n",
       "60351  60351  285144          architect   \n",
       "29148  29148  588219  software engineer   \n",
       "17613  17613  318439          developer   \n",
       "\n",
       "                                             Description  \\\n",
       "38992  The Senior Java Developer will be responsible ...   \n",
       "36598  Our Client (PRESTIGOUS EDUCATIONAL INSTITUTION...   \n",
       "17102  Senior Mobile Applications Developer for Inter...   \n",
       "1515   Senior Mobile Applications Developer for Inter...   \n",
       "59836  Write functional and technical specifications....   \n",
       "10479  Position Summary:The successful candidate will...   \n",
       "11831  Our fast growing and well established client i...   \n",
       "60351  Location: Annapolis Junction, MDClearance:TS//...   \n",
       "29148  Responsibilities:    Designing and building va...   \n",
       "17613  Responsibilities: Job Responsibilities:Work wi...   \n",
       "\n",
       "                                            Requirements State  \\\n",
       "38992  requirements years software development years ...    OH   \n",
       "36598  years experience experience html css js ajaxex...    NY   \n",
       "17102  senior mobile applications developer broomfiel...    CO   \n",
       "1515   senior mobile applications developer broomfiel...    CA   \n",
       "59836  minimum years experience solutions microsoft t...    CA   \n",
       "10479  qualifications experience environment projects...    VA   \n",
       "11831  b.s studies computer science experience years ...    CA   \n",
       "60351  requirements active top secret sci full scope ...    MD   \n",
       "29148  qualifications years development java + linux ...    NY   \n",
       "17613  years php/lamp development experience building...    CA   \n",
       "\n",
       "                     City  \n",
       "38992           Cleveland  \n",
       "36598            New York  \n",
       "17102          Broomfield  \n",
       "1515            San Mateo  \n",
       "59836              Encino  \n",
       "10479        Williamsburg  \n",
       "11831           Palo Alto  \n",
       "60351  Annapolis Junction  \n",
       "29148            New York  \n",
       "17613         Los Angeles  "
      ]
     },
     "execution_count": 42,
     "metadata": {},
     "output_type": "execute_result"
    }
   ],
   "source": [
    "jobs.iloc[top_10_jobs['index']]"
   ]
  },
  {
   "cell_type": "code",
   "execution_count": 43,
   "metadata": {},
   "outputs": [
    {
     "data": {
      "text/plain": [
       "index                                                       29473\n",
       "JobID                                                      595309\n",
       "Title                                              java developer\n",
       "Description                                          Java Deve...\n",
       "Requirements    years experience minimum years programming exp...\n",
       "State                                                          NV\n",
       "City                                                    Las Vegas\n",
       "Name: 29473, dtype: object"
      ]
     },
     "execution_count": 43,
     "metadata": {},
     "output_type": "execute_result"
    }
   ],
   "source": [
    "jobs.iloc[17130]"
   ]
  },
  {
   "cell_type": "code",
   "execution_count": null,
   "metadata": {},
   "outputs": [],
   "source": []
  },
  {
   "cell_type": "code",
   "execution_count": null,
   "metadata": {},
   "outputs": [],
   "source": []
  }
 ],
 "metadata": {
  "kernelspec": {
   "display_name": "Python 3",
   "language": "python",
   "name": "python3"
  },
  "language_info": {
   "codemirror_mode": {
    "name": "ipython",
    "version": 3
   },
   "file_extension": ".py",
   "mimetype": "text/x-python",
   "name": "python",
   "nbconvert_exporter": "python",
   "pygments_lexer": "ipython3",
   "version": "3.7.3"
  }
 },
 "nbformat": 4,
 "nbformat_minor": 4
}
